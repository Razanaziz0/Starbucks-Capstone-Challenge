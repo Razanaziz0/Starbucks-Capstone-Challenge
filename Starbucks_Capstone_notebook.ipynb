{
 "cells": [
  {
   "cell_type": "markdown",
   "metadata": {},
   "source": [
    "# Starbucks Capstone Challenge\n",
    "\n",
    "### Introduction\n",
    "\n",
    "This data set contains simulated data that mimics customer behavior on the Starbucks rewards mobile app. Once every few days, Starbucks sends out an offer to users of the mobile app. An offer can be merely an advertisement for a drink or an actual offer such as a discount or BOGO (buy one get one free). Some users might not receive any offer during certain weeks. \n",
    "\n",
    "Not all users receive the same offer, and that is the challenge to solve with this data set.\n",
    "\n",
    "Your task is to combine transaction, demographic and offer data to determine which demographic groups respond best to which offer type. This data set is a simplified version of the real Starbucks app because the underlying simulator only has one product whereas Starbucks actually sells dozens of products.\n",
    "\n",
    "Every offer has a validity period before the offer expires. As an example, a BOGO offer might be valid for only 5 days. You'll see in the data set that informational offers have a validity period even though these ads are merely providing information about a product; for example, if an informational offer has 7 days of validity, you can assume the customer is feeling the influence of the offer for 7 days after receiving the advertisement.\n",
    "\n",
    "You'll be given transactional data showing user purchases made on the app including the timestamp of purchase and the amount of money spent on a purchase. This transactional data also has a record for each offer that a user receives as well as a record for when a user actually views the offer. There are also records for when a user completes an offer. \n",
    "\n",
    "Keep in mind as well that someone using the app might make a purchase through the app without having received an offer or seen an offer.\n",
    "\n",
    "### Example\n",
    "\n",
    "To give an example, a user could receive a discount offer buy 10 dollars get 2 off on Monday. The offer is valid for 10 days from receipt. If the customer accumulates at least 10 dollars in purchases during the validity period, the customer completes the offer.\n",
    "\n",
    "However, there are a few things to watch out for in this data set. Customers do not opt into the offers that they receive; in other words, a user can receive an offer, never actually view the offer, and still complete the offer. For example, a user might receive the \"buy 10 dollars get 2 dollars off offer\", but the user never opens the offer during the 10 day validity period. The customer spends 15 dollars during those ten days. There will be an offer completion record in the data set; however, the customer was not influenced by the offer because the customer never viewed the offer.\n",
    "\n",
    "### Cleaning\n",
    "\n",
    "This makes data cleaning especially important and tricky.\n",
    "\n",
    "You'll also want to take into account that some demographic groups will make purchases even if they don't receive an offer. From a business perspective, if a customer is going to make a 10 dollar purchase without an offer anyway, you wouldn't want to send a buy 10 dollars get 2 dollars off offer. You'll want to try to assess what a certain demographic group will buy when not receiving any offers.\n",
    "\n",
    "### Final Advice\n",
    "\n",
    "Because this is a capstone project, you are free to analyze the data any way you see fit. For example, you could build a machine learning model that predicts how much someone will spend based on demographics and offer type. Or you could build a model that predicts whether or not someone will respond to an offer. Or, you don't need to build a machine learning model at all. You could develop a set of heuristics that determine what offer you should send to each customer (i.e., 75 percent of women customers who were 35 years old responded to offer A vs 40 percent from the same demographic to offer B, so send offer A)."
   ]
  },
  {
   "cell_type": "markdown",
   "metadata": {},
   "source": [
    "# Data Sets\n",
    "\n",
    "The data is contained in three files:\n",
    "\n",
    "* portfolio.json - containing offer ids and meta data about each offer (duration, type, etc.)\n",
    "* profile.json - demographic data for each customer\n",
    "* transcript.json - records for transactions, offers received, offers viewed, and offers completed\n",
    "\n",
    "Here is the schema and explanation of each variable in the files:\n",
    "\n",
    "**portfolio.json**\n",
    "* id (string) - offer id\n",
    "* offer_type (string) - type of offer ie BOGO, discount, informational\n",
    "* difficulty (int) - minimum required spend to complete an offer\n",
    "* reward (int) - reward given for completing an offer\n",
    "* duration (int) - time for offer to be open, in days\n",
    "* channels (list of strings)\n",
    "\n",
    "**profile.json**\n",
    "* age (int) - age of the customer \n",
    "* became_member_on (int) - date when customer created an app account\n",
    "* gender (str) - gender of the customer (note some entries contain 'O' for other rather than M or F)\n",
    "* id (str) - customer id\n",
    "* income (float) - customer's income\n",
    "\n",
    "**transcript.json**\n",
    "* event (str) - record description (ie transaction, offer received, offer viewed, etc.)\n",
    "* person (str) - customer id\n",
    "* time (int) - time in hours since start of test. The data begins at time t=0\n",
    "* value - (dict of strings) - either an offer id or transaction amount depending on the record\n",
    "\n"
   ]
  },
  {
   "cell_type": "code",
   "execution_count": 1,
   "metadata": {},
   "outputs": [],
   "source": [
    "import pandas as pd\n",
    "import numpy as np\n",
    "import math\n",
    "import json\n",
    "from matplotlib import pyplot as plt\n",
    "\n",
    "% matplotlib inline\n",
    "\n",
    "# read in the json files\n",
    "portfolio = pd.read_json('data/portfolio.json', orient='records', lines=True)\n",
    "profile = pd.read_json('data/profile.json', orient='records', lines=True)\n",
    "transcript = pd.read_json('data/transcript.json', orient='records', lines=True)"
   ]
  },
  {
   "cell_type": "code",
   "execution_count": 2,
   "metadata": {},
   "outputs": [
    {
     "name": "stdout",
     "output_type": "stream",
     "text": [
      "**************portfolio**************\n",
      "Index(['channels', 'difficulty', 'duration', 'id', 'offer_type', 'reward'], dtype='object')\n",
      "**************profile**************\n",
      "Index(['age', 'became_member_on', 'gender', 'id', 'income'], dtype='object')\n",
      "**************transcript**************\n",
      "Index(['event', 'person', 'time', 'value'], dtype='object')\n"
     ]
    }
   ],
   "source": [
    "print(\"**************portfolio**************\")\n",
    "print(portfolio.columns)\n",
    "print(\"**************profile**************\")\n",
    "print(profile.columns)\n",
    "print(\"**************transcript**************\")\n",
    "print(transcript.columns)\n"
   ]
  },
  {
   "cell_type": "markdown",
   "metadata": {},
   "source": [
    "here as you can see we have null values in profile dataframe in gendor and incomes columns"
   ]
  },
  {
   "cell_type": "code",
   "execution_count": 3,
   "metadata": {},
   "outputs": [
    {
     "name": "stdout",
     "output_type": "stream",
     "text": [
      "channels      0\n",
      "difficulty    0\n",
      "duration      0\n",
      "id            0\n",
      "offer_type    0\n",
      "reward        0\n",
      "dtype: int64\n",
      "****************************\n",
      "age                    0\n",
      "became_member_on       0\n",
      "gender              2175\n",
      "id                     0\n",
      "income              2175\n",
      "dtype: int64\n",
      "****************************\n",
      "event     0\n",
      "person    0\n",
      "time      0\n",
      "value     0\n",
      "dtype: int64\n"
     ]
    }
   ],
   "source": [
    "print(portfolio.isnull().sum())\n",
    "print(\"****************************\")\n",
    "print(profile.isnull().sum())\n",
    "print(\"****************************\")\n",
    "print(transcript.isnull().sum())\n"
   ]
  },
  {
   "cell_type": "markdown",
   "metadata": {},
   "source": [
    "\n",
    "### Explore portfolio dataframe\n",
    "**portfolio.json**\n",
    "* id (string) - offer id\n",
    "* offer_type (string) - type of offer ie BOGO, discount, informational\n",
    "* difficulty (int) - minimum required spend to complete an offer\n",
    "* reward (int) - reward given for completing an offer\n",
    "* duration (int) - time for offer to be open, in days\n",
    "* channels (list of strings)\n"
   ]
  },
  {
   "cell_type": "code",
   "execution_count": 4,
   "metadata": {},
   "outputs": [
    {
     "name": "stdout",
     "output_type": "stream",
     "text": [
      "(10, 6)\n"
     ]
    },
    {
     "data": {
      "text/html": [
       "<div>\n",
       "<style scoped>\n",
       "    .dataframe tbody tr th:only-of-type {\n",
       "        vertical-align: middle;\n",
       "    }\n",
       "\n",
       "    .dataframe tbody tr th {\n",
       "        vertical-align: top;\n",
       "    }\n",
       "\n",
       "    .dataframe thead th {\n",
       "        text-align: right;\n",
       "    }\n",
       "</style>\n",
       "<table border=\"1\" class=\"dataframe\">\n",
       "  <thead>\n",
       "    <tr style=\"text-align: right;\">\n",
       "      <th></th>\n",
       "      <th>channels</th>\n",
       "      <th>difficulty</th>\n",
       "      <th>duration</th>\n",
       "      <th>id</th>\n",
       "      <th>offer_type</th>\n",
       "      <th>reward</th>\n",
       "    </tr>\n",
       "  </thead>\n",
       "  <tbody>\n",
       "    <tr>\n",
       "      <th>0</th>\n",
       "      <td>[email, mobile, social]</td>\n",
       "      <td>10</td>\n",
       "      <td>7</td>\n",
       "      <td>ae264e3637204a6fb9bb56bc8210ddfd</td>\n",
       "      <td>bogo</td>\n",
       "      <td>10</td>\n",
       "    </tr>\n",
       "    <tr>\n",
       "      <th>1</th>\n",
       "      <td>[web, email, mobile, social]</td>\n",
       "      <td>10</td>\n",
       "      <td>5</td>\n",
       "      <td>4d5c57ea9a6940dd891ad53e9dbe8da0</td>\n",
       "      <td>bogo</td>\n",
       "      <td>10</td>\n",
       "    </tr>\n",
       "    <tr>\n",
       "      <th>2</th>\n",
       "      <td>[web, email, mobile]</td>\n",
       "      <td>0</td>\n",
       "      <td>4</td>\n",
       "      <td>3f207df678b143eea3cee63160fa8bed</td>\n",
       "      <td>informational</td>\n",
       "      <td>0</td>\n",
       "    </tr>\n",
       "    <tr>\n",
       "      <th>3</th>\n",
       "      <td>[web, email, mobile]</td>\n",
       "      <td>5</td>\n",
       "      <td>7</td>\n",
       "      <td>9b98b8c7a33c4b65b9aebfe6a799e6d9</td>\n",
       "      <td>bogo</td>\n",
       "      <td>5</td>\n",
       "    </tr>\n",
       "    <tr>\n",
       "      <th>4</th>\n",
       "      <td>[web, email]</td>\n",
       "      <td>20</td>\n",
       "      <td>10</td>\n",
       "      <td>0b1e1539f2cc45b7b9fa7c272da2e1d7</td>\n",
       "      <td>discount</td>\n",
       "      <td>5</td>\n",
       "    </tr>\n",
       "    <tr>\n",
       "      <th>5</th>\n",
       "      <td>[web, email, mobile, social]</td>\n",
       "      <td>7</td>\n",
       "      <td>7</td>\n",
       "      <td>2298d6c36e964ae4a3e7e9706d1fb8c2</td>\n",
       "      <td>discount</td>\n",
       "      <td>3</td>\n",
       "    </tr>\n",
       "    <tr>\n",
       "      <th>6</th>\n",
       "      <td>[web, email, mobile, social]</td>\n",
       "      <td>10</td>\n",
       "      <td>10</td>\n",
       "      <td>fafdcd668e3743c1bb461111dcafc2a4</td>\n",
       "      <td>discount</td>\n",
       "      <td>2</td>\n",
       "    </tr>\n",
       "    <tr>\n",
       "      <th>7</th>\n",
       "      <td>[email, mobile, social]</td>\n",
       "      <td>0</td>\n",
       "      <td>3</td>\n",
       "      <td>5a8bc65990b245e5a138643cd4eb9837</td>\n",
       "      <td>informational</td>\n",
       "      <td>0</td>\n",
       "    </tr>\n",
       "    <tr>\n",
       "      <th>8</th>\n",
       "      <td>[web, email, mobile, social]</td>\n",
       "      <td>5</td>\n",
       "      <td>5</td>\n",
       "      <td>f19421c1d4aa40978ebb69ca19b0e20d</td>\n",
       "      <td>bogo</td>\n",
       "      <td>5</td>\n",
       "    </tr>\n",
       "    <tr>\n",
       "      <th>9</th>\n",
       "      <td>[web, email, mobile]</td>\n",
       "      <td>10</td>\n",
       "      <td>7</td>\n",
       "      <td>2906b810c7d4411798c6938adc9daaa5</td>\n",
       "      <td>discount</td>\n",
       "      <td>2</td>\n",
       "    </tr>\n",
       "  </tbody>\n",
       "</table>\n",
       "</div>"
      ],
      "text/plain": [
       "                       channels  difficulty  duration  \\\n",
       "0       [email, mobile, social]          10         7   \n",
       "1  [web, email, mobile, social]          10         5   \n",
       "2          [web, email, mobile]           0         4   \n",
       "3          [web, email, mobile]           5         7   \n",
       "4                  [web, email]          20        10   \n",
       "5  [web, email, mobile, social]           7         7   \n",
       "6  [web, email, mobile, social]          10        10   \n",
       "7       [email, mobile, social]           0         3   \n",
       "8  [web, email, mobile, social]           5         5   \n",
       "9          [web, email, mobile]          10         7   \n",
       "\n",
       "                                 id     offer_type  reward  \n",
       "0  ae264e3637204a6fb9bb56bc8210ddfd           bogo      10  \n",
       "1  4d5c57ea9a6940dd891ad53e9dbe8da0           bogo      10  \n",
       "2  3f207df678b143eea3cee63160fa8bed  informational       0  \n",
       "3  9b98b8c7a33c4b65b9aebfe6a799e6d9           bogo       5  \n",
       "4  0b1e1539f2cc45b7b9fa7c272da2e1d7       discount       5  \n",
       "5  2298d6c36e964ae4a3e7e9706d1fb8c2       discount       3  \n",
       "6  fafdcd668e3743c1bb461111dcafc2a4       discount       2  \n",
       "7  5a8bc65990b245e5a138643cd4eb9837  informational       0  \n",
       "8  f19421c1d4aa40978ebb69ca19b0e20d           bogo       5  \n",
       "9  2906b810c7d4411798c6938adc9daaa5       discount       2  "
      ]
     },
     "execution_count": 4,
     "metadata": {},
     "output_type": "execute_result"
    }
   ],
   "source": [
    "print(portfolio.shape)\n",
    "portfolio"
   ]
  },
  {
   "cell_type": "code",
   "execution_count": 5,
   "metadata": {},
   "outputs": [
    {
     "data": {
      "text/html": [
       "<div>\n",
       "<style scoped>\n",
       "    .dataframe tbody tr th:only-of-type {\n",
       "        vertical-align: middle;\n",
       "    }\n",
       "\n",
       "    .dataframe tbody tr th {\n",
       "        vertical-align: top;\n",
       "    }\n",
       "\n",
       "    .dataframe thead th {\n",
       "        text-align: right;\n",
       "    }\n",
       "</style>\n",
       "<table border=\"1\" class=\"dataframe\">\n",
       "  <thead>\n",
       "    <tr style=\"text-align: right;\">\n",
       "      <th></th>\n",
       "      <th>difficulty</th>\n",
       "      <th>duration</th>\n",
       "      <th>reward</th>\n",
       "    </tr>\n",
       "  </thead>\n",
       "  <tbody>\n",
       "    <tr>\n",
       "      <th>count</th>\n",
       "      <td>10.000000</td>\n",
       "      <td>10.000000</td>\n",
       "      <td>10.000000</td>\n",
       "    </tr>\n",
       "    <tr>\n",
       "      <th>mean</th>\n",
       "      <td>7.700000</td>\n",
       "      <td>6.500000</td>\n",
       "      <td>4.200000</td>\n",
       "    </tr>\n",
       "    <tr>\n",
       "      <th>std</th>\n",
       "      <td>5.831905</td>\n",
       "      <td>2.321398</td>\n",
       "      <td>3.583915</td>\n",
       "    </tr>\n",
       "    <tr>\n",
       "      <th>min</th>\n",
       "      <td>0.000000</td>\n",
       "      <td>3.000000</td>\n",
       "      <td>0.000000</td>\n",
       "    </tr>\n",
       "    <tr>\n",
       "      <th>25%</th>\n",
       "      <td>5.000000</td>\n",
       "      <td>5.000000</td>\n",
       "      <td>2.000000</td>\n",
       "    </tr>\n",
       "    <tr>\n",
       "      <th>50%</th>\n",
       "      <td>8.500000</td>\n",
       "      <td>7.000000</td>\n",
       "      <td>4.000000</td>\n",
       "    </tr>\n",
       "    <tr>\n",
       "      <th>75%</th>\n",
       "      <td>10.000000</td>\n",
       "      <td>7.000000</td>\n",
       "      <td>5.000000</td>\n",
       "    </tr>\n",
       "    <tr>\n",
       "      <th>max</th>\n",
       "      <td>20.000000</td>\n",
       "      <td>10.000000</td>\n",
       "      <td>10.000000</td>\n",
       "    </tr>\n",
       "  </tbody>\n",
       "</table>\n",
       "</div>"
      ],
      "text/plain": [
       "       difficulty   duration     reward\n",
       "count   10.000000  10.000000  10.000000\n",
       "mean     7.700000   6.500000   4.200000\n",
       "std      5.831905   2.321398   3.583915\n",
       "min      0.000000   3.000000   0.000000\n",
       "25%      5.000000   5.000000   2.000000\n",
       "50%      8.500000   7.000000   4.000000\n",
       "75%     10.000000   7.000000   5.000000\n",
       "max     20.000000  10.000000  10.000000"
      ]
     },
     "execution_count": 5,
     "metadata": {},
     "output_type": "execute_result"
    }
   ],
   "source": [
    "portfolio.describe()"
   ]
  },
  {
   "cell_type": "code",
   "execution_count": 6,
   "metadata": {},
   "outputs": [
    {
     "name": "stdout",
     "output_type": "stream",
     "text": [
      "discount         4\n",
      "bogo             4\n",
      "informational    2\n",
      "Name: offer_type, dtype: int64\n",
      "10    4\n",
      "5     2\n",
      "0     2\n",
      "7     1\n",
      "20    1\n",
      "Name: difficulty, dtype: int64\n",
      "7     4\n",
      "10    2\n",
      "5     2\n",
      "4     1\n",
      "3     1\n",
      "Name: duration, dtype: int64\n"
     ]
    }
   ],
   "source": [
    "print(portfolio['offer_type'].value_counts())\n",
    "print(portfolio['difficulty'].value_counts())\n",
    "print(portfolio['duration'].value_counts())\n"
   ]
  },
  {
   "cell_type": "markdown",
   "metadata": {},
   "source": [
    "### Explore profile dataframe\n",
    "\n",
    "**profile.json**\n",
    "* age (int) - age of the customer \n",
    "* became_member_on (int) - date when customer created an app account\n",
    "* gender (str) - gender of the customer (note some entries contain 'O' for other rather than M or F)\n",
    "* id (str) - customer id\n",
    "* income (float) - customer's income"
   ]
  },
  {
   "cell_type": "code",
   "execution_count": 7,
   "metadata": {},
   "outputs": [
    {
     "name": "stdout",
     "output_type": "stream",
     "text": [
      "(17000, 5)\n"
     ]
    },
    {
     "data": {
      "text/html": [
       "<div>\n",
       "<style scoped>\n",
       "    .dataframe tbody tr th:only-of-type {\n",
       "        vertical-align: middle;\n",
       "    }\n",
       "\n",
       "    .dataframe tbody tr th {\n",
       "        vertical-align: top;\n",
       "    }\n",
       "\n",
       "    .dataframe thead th {\n",
       "        text-align: right;\n",
       "    }\n",
       "</style>\n",
       "<table border=\"1\" class=\"dataframe\">\n",
       "  <thead>\n",
       "    <tr style=\"text-align: right;\">\n",
       "      <th></th>\n",
       "      <th>age</th>\n",
       "      <th>became_member_on</th>\n",
       "      <th>gender</th>\n",
       "      <th>id</th>\n",
       "      <th>income</th>\n",
       "    </tr>\n",
       "  </thead>\n",
       "  <tbody>\n",
       "    <tr>\n",
       "      <th>0</th>\n",
       "      <td>118</td>\n",
       "      <td>20170212</td>\n",
       "      <td>None</td>\n",
       "      <td>68be06ca386d4c31939f3a4f0e3dd783</td>\n",
       "      <td>NaN</td>\n",
       "    </tr>\n",
       "    <tr>\n",
       "      <th>1</th>\n",
       "      <td>55</td>\n",
       "      <td>20170715</td>\n",
       "      <td>F</td>\n",
       "      <td>0610b486422d4921ae7d2bf64640c50b</td>\n",
       "      <td>112000.0</td>\n",
       "    </tr>\n",
       "    <tr>\n",
       "      <th>2</th>\n",
       "      <td>118</td>\n",
       "      <td>20180712</td>\n",
       "      <td>None</td>\n",
       "      <td>38fe809add3b4fcf9315a9694bb96ff5</td>\n",
       "      <td>NaN</td>\n",
       "    </tr>\n",
       "    <tr>\n",
       "      <th>3</th>\n",
       "      <td>75</td>\n",
       "      <td>20170509</td>\n",
       "      <td>F</td>\n",
       "      <td>78afa995795e4d85b5d9ceeca43f5fef</td>\n",
       "      <td>100000.0</td>\n",
       "    </tr>\n",
       "    <tr>\n",
       "      <th>4</th>\n",
       "      <td>118</td>\n",
       "      <td>20170804</td>\n",
       "      <td>None</td>\n",
       "      <td>a03223e636434f42ac4c3df47e8bac43</td>\n",
       "      <td>NaN</td>\n",
       "    </tr>\n",
       "  </tbody>\n",
       "</table>\n",
       "</div>"
      ],
      "text/plain": [
       "   age  became_member_on gender                                id    income\n",
       "0  118          20170212   None  68be06ca386d4c31939f3a4f0e3dd783       NaN\n",
       "1   55          20170715      F  0610b486422d4921ae7d2bf64640c50b  112000.0\n",
       "2  118          20180712   None  38fe809add3b4fcf9315a9694bb96ff5       NaN\n",
       "3   75          20170509      F  78afa995795e4d85b5d9ceeca43f5fef  100000.0\n",
       "4  118          20170804   None  a03223e636434f42ac4c3df47e8bac43       NaN"
      ]
     },
     "execution_count": 7,
     "metadata": {},
     "output_type": "execute_result"
    }
   ],
   "source": [
    "print(profile.shape)\n",
    "profile.head()"
   ]
  },
  {
   "cell_type": "code",
   "execution_count": 8,
   "metadata": {},
   "outputs": [
    {
     "data": {
      "text/html": [
       "<div>\n",
       "<style scoped>\n",
       "    .dataframe tbody tr th:only-of-type {\n",
       "        vertical-align: middle;\n",
       "    }\n",
       "\n",
       "    .dataframe tbody tr th {\n",
       "        vertical-align: top;\n",
       "    }\n",
       "\n",
       "    .dataframe thead th {\n",
       "        text-align: right;\n",
       "    }\n",
       "</style>\n",
       "<table border=\"1\" class=\"dataframe\">\n",
       "  <thead>\n",
       "    <tr style=\"text-align: right;\">\n",
       "      <th></th>\n",
       "      <th>age</th>\n",
       "      <th>became_member_on</th>\n",
       "      <th>income</th>\n",
       "    </tr>\n",
       "  </thead>\n",
       "  <tbody>\n",
       "    <tr>\n",
       "      <th>count</th>\n",
       "      <td>17000.000000</td>\n",
       "      <td>1.700000e+04</td>\n",
       "      <td>14825.000000</td>\n",
       "    </tr>\n",
       "    <tr>\n",
       "      <th>mean</th>\n",
       "      <td>62.531412</td>\n",
       "      <td>2.016703e+07</td>\n",
       "      <td>65404.991568</td>\n",
       "    </tr>\n",
       "    <tr>\n",
       "      <th>std</th>\n",
       "      <td>26.738580</td>\n",
       "      <td>1.167750e+04</td>\n",
       "      <td>21598.299410</td>\n",
       "    </tr>\n",
       "    <tr>\n",
       "      <th>min</th>\n",
       "      <td>18.000000</td>\n",
       "      <td>2.013073e+07</td>\n",
       "      <td>30000.000000</td>\n",
       "    </tr>\n",
       "    <tr>\n",
       "      <th>25%</th>\n",
       "      <td>45.000000</td>\n",
       "      <td>2.016053e+07</td>\n",
       "      <td>49000.000000</td>\n",
       "    </tr>\n",
       "    <tr>\n",
       "      <th>50%</th>\n",
       "      <td>58.000000</td>\n",
       "      <td>2.017080e+07</td>\n",
       "      <td>64000.000000</td>\n",
       "    </tr>\n",
       "    <tr>\n",
       "      <th>75%</th>\n",
       "      <td>73.000000</td>\n",
       "      <td>2.017123e+07</td>\n",
       "      <td>80000.000000</td>\n",
       "    </tr>\n",
       "    <tr>\n",
       "      <th>max</th>\n",
       "      <td>118.000000</td>\n",
       "      <td>2.018073e+07</td>\n",
       "      <td>120000.000000</td>\n",
       "    </tr>\n",
       "  </tbody>\n",
       "</table>\n",
       "</div>"
      ],
      "text/plain": [
       "                age  became_member_on         income\n",
       "count  17000.000000      1.700000e+04   14825.000000\n",
       "mean      62.531412      2.016703e+07   65404.991568\n",
       "std       26.738580      1.167750e+04   21598.299410\n",
       "min       18.000000      2.013073e+07   30000.000000\n",
       "25%       45.000000      2.016053e+07   49000.000000\n",
       "50%       58.000000      2.017080e+07   64000.000000\n",
       "75%       73.000000      2.017123e+07   80000.000000\n",
       "max      118.000000      2.018073e+07  120000.000000"
      ]
     },
     "execution_count": 8,
     "metadata": {},
     "output_type": "execute_result"
    }
   ],
   "source": [
    "profile.describe()"
   ]
  },
  {
   "cell_type": "markdown",
   "metadata": {},
   "source": [
    "### Clean Profile Data\n",
    "\n",
    "Profile dataframe has the most NA values therefore I need to clean it to make the result more accurate"
   ]
  },
  {
   "cell_type": "code",
   "execution_count": 9,
   "metadata": {},
   "outputs": [
    {
     "name": "stdout",
     "output_type": "stream",
     "text": [
      "age                    0\n",
      "became_member_on       0\n",
      "gender              2175\n",
      "id                     0\n",
      "income              2175\n",
      "dtype: int64\n"
     ]
    }
   ],
   "source": [
    "print(profile.isnull().sum())\n",
    "\n"
   ]
  },
  {
   "cell_type": "code",
   "execution_count": 10,
   "metadata": {
    "scrolled": true
   },
   "outputs": [
    {
     "name": "stdout",
     "output_type": "stream",
     "text": [
      "118    2175\n",
      "58      408\n",
      "53      372\n",
      "51      363\n",
      "54      359\n",
      "59      359\n",
      "57      353\n",
      "52      351\n",
      "55      350\n",
      "56      342\n",
      "63      338\n",
      "60      333\n",
      "49      321\n",
      "62      318\n",
      "67      317\n",
      "64      311\n",
      "61      309\n",
      "48      288\n",
      "50      284\n",
      "66      284\n",
      "65      280\n",
      "68      259\n",
      "70      252\n",
      "69      242\n",
      "47      232\n",
      "45      231\n",
      "71      230\n",
      "42      227\n",
      "43      215\n",
      "46      212\n",
      "       ... \n",
      "22      131\n",
      "30      131\n",
      "29      129\n",
      "23      126\n",
      "81      118\n",
      "35      118\n",
      "79      117\n",
      "80      116\n",
      "31      113\n",
      "82      105\n",
      "83      102\n",
      "84       83\n",
      "18       70\n",
      "85       70\n",
      "87       66\n",
      "88       64\n",
      "86       54\n",
      "89       53\n",
      "90       52\n",
      "91       47\n",
      "92       40\n",
      "94       33\n",
      "93       29\n",
      "95       22\n",
      "97       13\n",
      "100      12\n",
      "96        8\n",
      "98        5\n",
      "99        5\n",
      "101       5\n",
      "Name: age, Length: 85, dtype: int64\n"
     ]
    }
   ],
   "source": [
    "print(profile['age'].value_counts())\n",
    "\n"
   ]
  },
  {
   "cell_type": "markdown",
   "metadata": {},
   "source": [
    "As you can see in the above cell the age of 118 has the same number of NA values and I concluded all the records with age 118 I need to delete because it will affect the accuracy of the data."
   ]
  },
  {
   "cell_type": "code",
   "execution_count": 11,
   "metadata": {},
   "outputs": [
    {
     "data": {
      "text/plain": [
       "age                 2175\n",
       "became_member_on    2175\n",
       "gender                 0\n",
       "id                  2175\n",
       "income                 0\n",
       "dtype: int64"
      ]
     },
     "execution_count": 11,
     "metadata": {},
     "output_type": "execute_result"
    }
   ],
   "source": [
    "profile.where(profile.age==118).count()\n"
   ]
  },
  {
   "cell_type": "code",
   "execution_count": 12,
   "metadata": {},
   "outputs": [],
   "source": [
    "profile = profile.drop(profile[profile.age==118].index)\n"
   ]
  },
  {
   "cell_type": "code",
   "execution_count": 13,
   "metadata": {},
   "outputs": [
    {
     "data": {
      "text/html": [
       "<div>\n",
       "<style scoped>\n",
       "    .dataframe tbody tr th:only-of-type {\n",
       "        vertical-align: middle;\n",
       "    }\n",
       "\n",
       "    .dataframe tbody tr th {\n",
       "        vertical-align: top;\n",
       "    }\n",
       "\n",
       "    .dataframe thead th {\n",
       "        text-align: right;\n",
       "    }\n",
       "</style>\n",
       "<table border=\"1\" class=\"dataframe\">\n",
       "  <thead>\n",
       "    <tr style=\"text-align: right;\">\n",
       "      <th></th>\n",
       "      <th>agerange</th>\n",
       "      <th>id</th>\n",
       "    </tr>\n",
       "  </thead>\n",
       "  <tbody>\n",
       "    <tr>\n",
       "      <th>0</th>\n",
       "      <td>&lt;12</td>\n",
       "      <td>0</td>\n",
       "    </tr>\n",
       "    <tr>\n",
       "      <th>1</th>\n",
       "      <td>13-20</td>\n",
       "      <td>340</td>\n",
       "    </tr>\n",
       "    <tr>\n",
       "      <th>2</th>\n",
       "      <td>21-30</td>\n",
       "      <td>1365</td>\n",
       "    </tr>\n",
       "    <tr>\n",
       "      <th>3</th>\n",
       "      <td>31-40</td>\n",
       "      <td>1597</td>\n",
       "    </tr>\n",
       "    <tr>\n",
       "      <th>4</th>\n",
       "      <td>41-50</td>\n",
       "      <td>2391</td>\n",
       "    </tr>\n",
       "    <tr>\n",
       "      <th>5</th>\n",
       "      <td>51-60</td>\n",
       "      <td>3590</td>\n",
       "    </tr>\n",
       "    <tr>\n",
       "      <th>6</th>\n",
       "      <td>61-70</td>\n",
       "      <td>2910</td>\n",
       "    </tr>\n",
       "    <tr>\n",
       "      <th>7</th>\n",
       "      <td>70+</td>\n",
       "      <td>2632</td>\n",
       "    </tr>\n",
       "  </tbody>\n",
       "</table>\n",
       "</div>"
      ],
      "text/plain": [
       "  agerange    id\n",
       "0      <12     0\n",
       "1    13-20   340\n",
       "2    21-30  1365\n",
       "3    31-40  1597\n",
       "4    41-50  2391\n",
       "5    51-60  3590\n",
       "6    61-70  2910\n",
       "7      70+  2632"
      ]
     },
     "execution_count": 13,
     "metadata": {},
     "output_type": "execute_result"
    }
   ],
   "source": [
    "bins = [0,12,20,30,40,50,60,70,200]\n",
    "labels = ['<12', '13-20', '21-30','31-40', '41-50', '51-60','61-70','70+']\n",
    "profile['agerange'] = pd.cut(profile.age, bins, labels = labels)\n",
    "profile_age = profile.groupby(['agerange'], as_index=False)['id'].count()\n",
    "profile_age"
   ]
  },
  {
   "cell_type": "code",
   "execution_count": 14,
   "metadata": {},
   "outputs": [
    {
     "data": {
      "image/png": "[encoded data removed]",
      "text/plain": [
       "<matplotlib.figure.Figure at 0x7f22d0ea1a20>"
      ]
     },
     "metadata": {
      "needs_background": "light"
     },
     "output_type": "display_data"
    }
   ],
   "source": [
    "plt.bar(profile_age['agerange'],profile_age['id'])\n",
    "plt.title('customers Ages ')\n",
    "plt.xlabel('Age range')\n",
    "plt.ylabel('# of customers')\n",
    "plt.show()"
   ]
  },
  {
   "cell_type": "code",
   "execution_count": 15,
   "metadata": {},
   "outputs": [
    {
     "data": {
      "text/plain": [
       "M    8484\n",
       "F    6129\n",
       "O     212\n",
       "Name: gender, dtype: int64"
      ]
     },
     "execution_count": 15,
     "metadata": {},
     "output_type": "execute_result"
    }
   ],
   "source": [
    "gender_g=profile['gender'].value_counts()\n",
    "gender_g\n"
   ]
  },
  {
   "cell_type": "code",
   "execution_count": 16,
   "metadata": {},
   "outputs": [
    {
     "data": {
      "image/png": "[encoded data removed]",
      "text/plain": [
       "<matplotlib.figure.Figure at 0x7f22d0cac898>"
      ]
     },
     "metadata": {},
     "output_type": "display_data"
    }
   ],
   "source": [
    "\n",
    "fig = plt.figure(figsize =(4, 4))\n",
    "plt.pie(gender_g.values, labels = gender_g.index\n",
    ")\n",
    "  \n",
    "# show plot\n",
    "plt.show()"
   ]
  },
  {
   "cell_type": "code",
   "execution_count": 17,
   "metadata": {},
   "outputs": [
    {
     "data": {
      "text/html": [
       "<div>\n",
       "<style scoped>\n",
       "    .dataframe tbody tr th:only-of-type {\n",
       "        vertical-align: middle;\n",
       "    }\n",
       "\n",
       "    .dataframe tbody tr th {\n",
       "        vertical-align: top;\n",
       "    }\n",
       "\n",
       "    .dataframe thead th {\n",
       "        text-align: right;\n",
       "    }\n",
       "</style>\n",
       "<table border=\"1\" class=\"dataframe\">\n",
       "  <thead>\n",
       "    <tr style=\"text-align: right;\">\n",
       "      <th></th>\n",
       "      <th>income_range</th>\n",
       "      <th>id</th>\n",
       "    </tr>\n",
       "  </thead>\n",
       "  <tbody>\n",
       "    <tr>\n",
       "      <th>0</th>\n",
       "      <td>30K-40K</td>\n",
       "      <td>2047</td>\n",
       "    </tr>\n",
       "    <tr>\n",
       "      <th>1</th>\n",
       "      <td>41K-50K</td>\n",
       "      <td>1899</td>\n",
       "    </tr>\n",
       "    <tr>\n",
       "      <th>2</th>\n",
       "      <td>51K-60K</td>\n",
       "      <td>2659</td>\n",
       "    </tr>\n",
       "    <tr>\n",
       "      <th>3</th>\n",
       "      <td>61K-70K</td>\n",
       "      <td>2347</td>\n",
       "    </tr>\n",
       "    <tr>\n",
       "      <th>4</th>\n",
       "      <td>71K-80K</td>\n",
       "      <td>2220</td>\n",
       "    </tr>\n",
       "    <tr>\n",
       "      <th>5</th>\n",
       "      <td>81K-90K</td>\n",
       "      <td>1371</td>\n",
       "    </tr>\n",
       "    <tr>\n",
       "      <th>6</th>\n",
       "      <td>90K-100K</td>\n",
       "      <td>1188</td>\n",
       "    </tr>\n",
       "    <tr>\n",
       "      <th>7</th>\n",
       "      <td>100K+</td>\n",
       "      <td>1006</td>\n",
       "    </tr>\n",
       "  </tbody>\n",
       "</table>\n",
       "</div>"
      ],
      "text/plain": [
       "  income_range    id\n",
       "0      30K-40K  2047\n",
       "1      41K-50K  1899\n",
       "2      51K-60K  2659\n",
       "3      61K-70K  2347\n",
       "4      71K-80K  2220\n",
       "5      81K-90K  1371\n",
       "6     90K-100K  1188\n",
       "7        100K+  1006"
      ]
     },
     "execution_count": 17,
     "metadata": {},
     "output_type": "execute_result"
    }
   ],
   "source": [
    "bins = [30000,40000,50000,60000,70000,80000,90000,100000,120000]\n",
    "labels = ['30K-40K', '41K-50K', '51K-60K','61K-70K', '71K-80K', '81K-90K','90K-100K','100K+']\n",
    "profile['income_range'] = pd.cut(profile.income, bins, labels = labels)\n",
    "profile_income = profile.groupby(['income_range'],as_index=False)['id'].count()\n",
    "profile_income"
   ]
  },
  {
   "cell_type": "code",
   "execution_count": 18,
   "metadata": {},
   "outputs": [
    {
     "data": {
      "text/plain": [
       "Text(0,0.5,'# of Customers')"
      ]
     },
     "execution_count": 18,
     "metadata": {},
     "output_type": "execute_result"
    },
    {
     "data": {
      "image/png": "[encoded data removed]",
      "text/plain": [
       "<matplotlib.figure.Figure at 0x7f22d0d13c88>"
      ]
     },
     "metadata": {
      "needs_background": "light"
     },
     "output_type": "display_data"
    }
   ],
   "source": [
    "profile.income.hist()\n",
    "plt.title(\"Income\")\n",
    "plt.xlabel(\"Income\")\n",
    "plt.ylabel(\"# of Customers\")"
   ]
  },
  {
   "cell_type": "code",
   "execution_count": 19,
   "metadata": {},
   "outputs": [
    {
     "data": {
      "image/png": "[encoded data removed]",
      "text/plain": [
       "<matplotlib.figure.Figure at 0x7f22d0d13208>"
      ]
     },
     "metadata": {
      "needs_background": "light"
     },
     "output_type": "display_data"
    }
   ],
   "source": [
    "plt.bar(profile_income['income_range'],profile_income['id'])\n",
    "plt.title('Event Type Distribution')\n",
    "plt.xlabel('Event')\n",
    "plt.ylabel('# of customers')\n",
    "plt.xticks(rotation=90, ha='center')\n",
    "plt.show()\n"
   ]
  },
  {
   "cell_type": "code",
   "execution_count": 21,
   "metadata": {},
   "outputs": [
    {
     "data": {
      "text/html": [
       "<div>\n",
       "<style scoped>\n",
       "    .dataframe tbody tr th:only-of-type {\n",
       "        vertical-align: middle;\n",
       "    }\n",
       "\n",
       "    .dataframe tbody tr th {\n",
       "        vertical-align: top;\n",
       "    }\n",
       "\n",
       "    .dataframe thead th {\n",
       "        text-align: right;\n",
       "    }\n",
       "</style>\n",
       "<table border=\"1\" class=\"dataframe\">\n",
       "  <thead>\n",
       "    <tr style=\"text-align: right;\">\n",
       "      <th></th>\n",
       "      <th>became_member_on</th>\n",
       "      <th>id</th>\n",
       "    </tr>\n",
       "  </thead>\n",
       "  <tbody>\n",
       "    <tr>\n",
       "      <th>0</th>\n",
       "      <td>2013</td>\n",
       "      <td>274</td>\n",
       "    </tr>\n",
       "    <tr>\n",
       "      <th>1</th>\n",
       "      <td>2014</td>\n",
       "      <td>662</td>\n",
       "    </tr>\n",
       "    <tr>\n",
       "      <th>2</th>\n",
       "      <td>2015</td>\n",
       "      <td>1597</td>\n",
       "    </tr>\n",
       "    <tr>\n",
       "      <th>3</th>\n",
       "      <td>2016</td>\n",
       "      <td>3024</td>\n",
       "    </tr>\n",
       "    <tr>\n",
       "      <th>4</th>\n",
       "      <td>2017</td>\n",
       "      <td>5599</td>\n",
       "    </tr>\n",
       "    <tr>\n",
       "      <th>5</th>\n",
       "      <td>2018</td>\n",
       "      <td>3669</td>\n",
       "    </tr>\n",
       "  </tbody>\n",
       "</table>\n",
       "</div>"
      ],
      "text/plain": [
       "   became_member_on    id\n",
       "0              2013   274\n",
       "1              2014   662\n",
       "2              2015  1597\n",
       "3              2016  3024\n",
       "4              2017  5599\n",
       "5              2018  3669"
      ]
     },
     "execution_count": 21,
     "metadata": {},
     "output_type": "execute_result"
    }
   ],
   "source": [
    "\n",
    "profile.became_member_on = profile['became_member_on'].astype(str).astype('datetime64[ns]').dt.year\n",
    "profile.became_member_on \n",
    "profile_join_year = profile.groupby(['became_member_on'],as_index=False)['id'].count()\n",
    "profile_join_year\n",
    "\n"
   ]
  },
  {
   "cell_type": "code",
   "execution_count": 22,
   "metadata": {},
   "outputs": [
    {
     "data": {
      "image/png": "[encoded data removed]",
      "text/plain": [
       "<matplotlib.figure.Figure at 0x7f22d0905a20>"
      ]
     },
     "metadata": {
      "needs_background": "light"
     },
     "output_type": "display_data"
    }
   ],
   "source": [
    "plt.bar(profile_join_year['became_member_on'],profile_join_year['id'])\n",
    "plt.title('became_member_on Distribution')\n",
    "plt.xlabel('Years')\n",
    "plt.ylabel('# of customers')\n",
    "plt.xticks(rotation=90, ha='center')\n",
    "plt.show()"
   ]
  },
  {
   "cell_type": "markdown",
   "metadata": {},
   "source": [
    "### Explore transcript dataframe\n",
    "\n",
    "**transcript.json**\n",
    "* event (str) - record description (ie transaction, offer received, offer viewed, etc.)\n",
    "* person (str) - customer id\n",
    "* time (int) - time in hours since start of test. The data begins at time t=0\n",
    "* value - (dict of strings) - either an offer id or transaction amount depending on the record\n"
   ]
  },
  {
   "cell_type": "code",
   "execution_count": 23,
   "metadata": {},
   "outputs": [
    {
     "name": "stdout",
     "output_type": "stream",
     "text": [
      "(306534, 4)\n"
     ]
    },
    {
     "data": {
      "text/html": [
       "<div>\n",
       "<style scoped>\n",
       "    .dataframe tbody tr th:only-of-type {\n",
       "        vertical-align: middle;\n",
       "    }\n",
       "\n",
       "    .dataframe tbody tr th {\n",
       "        vertical-align: top;\n",
       "    }\n",
       "\n",
       "    .dataframe thead th {\n",
       "        text-align: right;\n",
       "    }\n",
       "</style>\n",
       "<table border=\"1\" class=\"dataframe\">\n",
       "  <thead>\n",
       "    <tr style=\"text-align: right;\">\n",
       "      <th></th>\n",
       "      <th>event</th>\n",
       "      <th>person</th>\n",
       "      <th>time</th>\n",
       "      <th>value</th>\n",
       "    </tr>\n",
       "  </thead>\n",
       "  <tbody>\n",
       "    <tr>\n",
       "      <th>0</th>\n",
       "      <td>offer received</td>\n",
       "      <td>78afa995795e4d85b5d9ceeca43f5fef</td>\n",
       "      <td>0</td>\n",
       "      <td>{'offer id': '9b98b8c7a33c4b65b9aebfe6a799e6d9'}</td>\n",
       "    </tr>\n",
       "    <tr>\n",
       "      <th>1</th>\n",
       "      <td>offer received</td>\n",
       "      <td>a03223e636434f42ac4c3df47e8bac43</td>\n",
       "      <td>0</td>\n",
       "      <td>{'offer id': '0b1e1539f2cc45b7b9fa7c272da2e1d7'}</td>\n",
       "    </tr>\n",
       "    <tr>\n",
       "      <th>2</th>\n",
       "      <td>offer received</td>\n",
       "      <td>e2127556f4f64592b11af22de27a7932</td>\n",
       "      <td>0</td>\n",
       "      <td>{'offer id': '2906b810c7d4411798c6938adc9daaa5'}</td>\n",
       "    </tr>\n",
       "    <tr>\n",
       "      <th>3</th>\n",
       "      <td>offer received</td>\n",
       "      <td>8ec6ce2a7e7949b1bf142def7d0e0586</td>\n",
       "      <td>0</td>\n",
       "      <td>{'offer id': 'fafdcd668e3743c1bb461111dcafc2a4'}</td>\n",
       "    </tr>\n",
       "    <tr>\n",
       "      <th>4</th>\n",
       "      <td>offer received</td>\n",
       "      <td>68617ca6246f4fbc85e91a2a49552598</td>\n",
       "      <td>0</td>\n",
       "      <td>{'offer id': '4d5c57ea9a6940dd891ad53e9dbe8da0'}</td>\n",
       "    </tr>\n",
       "  </tbody>\n",
       "</table>\n",
       "</div>"
      ],
      "text/plain": [
       "            event                            person  time  \\\n",
       "0  offer received  78afa995795e4d85b5d9ceeca43f5fef     0   \n",
       "1  offer received  a03223e636434f42ac4c3df47e8bac43     0   \n",
       "2  offer received  e2127556f4f64592b11af22de27a7932     0   \n",
       "3  offer received  8ec6ce2a7e7949b1bf142def7d0e0586     0   \n",
       "4  offer received  68617ca6246f4fbc85e91a2a49552598     0   \n",
       "\n",
       "                                              value  \n",
       "0  {'offer id': '9b98b8c7a33c4b65b9aebfe6a799e6d9'}  \n",
       "1  {'offer id': '0b1e1539f2cc45b7b9fa7c272da2e1d7'}  \n",
       "2  {'offer id': '2906b810c7d4411798c6938adc9daaa5'}  \n",
       "3  {'offer id': 'fafdcd668e3743c1bb461111dcafc2a4'}  \n",
       "4  {'offer id': '4d5c57ea9a6940dd891ad53e9dbe8da0'}  "
      ]
     },
     "execution_count": 23,
     "metadata": {},
     "output_type": "execute_result"
    }
   ],
   "source": [
    "print(transcript.shape)\n",
    "transcript.head()"
   ]
  },
  {
   "cell_type": "code",
   "execution_count": 24,
   "metadata": {},
   "outputs": [
    {
     "name": "stdout",
     "output_type": "stream",
     "text": [
      "event     0\n",
      "person    0\n",
      "time      0\n",
      "value     0\n",
      "dtype: int64\n"
     ]
    }
   ],
   "source": [
    "print(transcript.isnull().sum())\n"
   ]
  },
  {
   "cell_type": "code",
   "execution_count": 25,
   "metadata": {},
   "outputs": [
    {
     "data": {
      "image/png": "[encoded data removed]",
      "text/plain": [
       "<matplotlib.figure.Figure at 0x7f22d08fcfd0>"
      ]
     },
     "metadata": {
      "needs_background": "light"
     },
     "output_type": "display_data"
    }
   ],
   "source": [
    "transcript_by_event = transcript['event'].value_counts()\n",
    "transcript_by_event\n",
    "plt.bar(transcript_by_event.index,transcript_by_event.values)\n",
    "plt.title('Event Type Distribution')\n",
    "plt.xlabel('Event')\n",
    "plt.ylabel('# of customers')\n",
    "plt.show()"
   ]
  },
  {
   "cell_type": "markdown",
   "metadata": {},
   "source": [
    "As you can see here the value column contain many values offer Id ,amount and reward\n",
    "\n",
    "Here I will separate them all in a different column to do the analysis "
   ]
  },
  {
   "cell_type": "code",
   "execution_count": 26,
   "metadata": {},
   "outputs": [],
   "source": [
    "\n",
    "transcript1 = pd.concat([transcript, transcript['value'].apply(pd.Series)], axis=1)\n",
    "\n"
   ]
  },
  {
   "cell_type": "markdown",
   "metadata": {},
   "source": [
    "In this step \n",
    "\n",
    "1- I will unified offer id and offer_id  columns to be in one column called [all_offer id]\n",
    "\n",
    "2- Rename Columns\n",
    "\n",
    "    a. person column to id in transcript\n",
    "    b. all_offer id to offer id id in transcript\n",
    "    c.id column to  offer id in portfolio\n",
    "    \n",
    "    "
   ]
  },
  {
   "cell_type": "code",
   "execution_count": 27,
   "metadata": {},
   "outputs": [
    {
     "data": {
      "text/html": [
       "<div>\n",
       "<style scoped>\n",
       "    .dataframe tbody tr th:only-of-type {\n",
       "        vertical-align: middle;\n",
       "    }\n",
       "\n",
       "    .dataframe tbody tr th {\n",
       "        vertical-align: top;\n",
       "    }\n",
       "\n",
       "    .dataframe thead th {\n",
       "        text-align: right;\n",
       "    }\n",
       "</style>\n",
       "<table border=\"1\" class=\"dataframe\">\n",
       "  <thead>\n",
       "    <tr style=\"text-align: right;\">\n",
       "      <th></th>\n",
       "      <th>event</th>\n",
       "      <th>id</th>\n",
       "      <th>time</th>\n",
       "      <th>value</th>\n",
       "      <th>amount</th>\n",
       "      <th>reward_transcript</th>\n",
       "      <th>offer id</th>\n",
       "    </tr>\n",
       "  </thead>\n",
       "  <tbody>\n",
       "    <tr>\n",
       "      <th>0</th>\n",
       "      <td>offer received</td>\n",
       "      <td>78afa995795e4d85b5d9ceeca43f5fef</td>\n",
       "      <td>0</td>\n",
       "      <td>{'offer id': '9b98b8c7a33c4b65b9aebfe6a799e6d9'}</td>\n",
       "      <td>NaN</td>\n",
       "      <td>NaN</td>\n",
       "      <td>9b98b8c7a33c4b65b9aebfe6a799e6d9</td>\n",
       "    </tr>\n",
       "    <tr>\n",
       "      <th>1</th>\n",
       "      <td>offer received</td>\n",
       "      <td>a03223e636434f42ac4c3df47e8bac43</td>\n",
       "      <td>0</td>\n",
       "      <td>{'offer id': '0b1e1539f2cc45b7b9fa7c272da2e1d7'}</td>\n",
       "      <td>NaN</td>\n",
       "      <td>NaN</td>\n",
       "      <td>0b1e1539f2cc45b7b9fa7c272da2e1d7</td>\n",
       "    </tr>\n",
       "    <tr>\n",
       "      <th>2</th>\n",
       "      <td>offer received</td>\n",
       "      <td>e2127556f4f64592b11af22de27a7932</td>\n",
       "      <td>0</td>\n",
       "      <td>{'offer id': '2906b810c7d4411798c6938adc9daaa5'}</td>\n",
       "      <td>NaN</td>\n",
       "      <td>NaN</td>\n",
       "      <td>2906b810c7d4411798c6938adc9daaa5</td>\n",
       "    </tr>\n",
       "    <tr>\n",
       "      <th>3</th>\n",
       "      <td>offer received</td>\n",
       "      <td>8ec6ce2a7e7949b1bf142def7d0e0586</td>\n",
       "      <td>0</td>\n",
       "      <td>{'offer id': 'fafdcd668e3743c1bb461111dcafc2a4'}</td>\n",
       "      <td>NaN</td>\n",
       "      <td>NaN</td>\n",
       "      <td>fafdcd668e3743c1bb461111dcafc2a4</td>\n",
       "    </tr>\n",
       "    <tr>\n",
       "      <th>4</th>\n",
       "      <td>offer received</td>\n",
       "      <td>68617ca6246f4fbc85e91a2a49552598</td>\n",
       "      <td>0</td>\n",
       "      <td>{'offer id': '4d5c57ea9a6940dd891ad53e9dbe8da0'}</td>\n",
       "      <td>NaN</td>\n",
       "      <td>NaN</td>\n",
       "      <td>4d5c57ea9a6940dd891ad53e9dbe8da0</td>\n",
       "    </tr>\n",
       "  </tbody>\n",
       "</table>\n",
       "</div>"
      ],
      "text/plain": [
       "            event                                id  time  \\\n",
       "0  offer received  78afa995795e4d85b5d9ceeca43f5fef     0   \n",
       "1  offer received  a03223e636434f42ac4c3df47e8bac43     0   \n",
       "2  offer received  e2127556f4f64592b11af22de27a7932     0   \n",
       "3  offer received  8ec6ce2a7e7949b1bf142def7d0e0586     0   \n",
       "4  offer received  68617ca6246f4fbc85e91a2a49552598     0   \n",
       "\n",
       "                                              value  amount  \\\n",
       "0  {'offer id': '9b98b8c7a33c4b65b9aebfe6a799e6d9'}     NaN   \n",
       "1  {'offer id': '0b1e1539f2cc45b7b9fa7c272da2e1d7'}     NaN   \n",
       "2  {'offer id': '2906b810c7d4411798c6938adc9daaa5'}     NaN   \n",
       "3  {'offer id': 'fafdcd668e3743c1bb461111dcafc2a4'}     NaN   \n",
       "4  {'offer id': '4d5c57ea9a6940dd891ad53e9dbe8da0'}     NaN   \n",
       "\n",
       "   reward_transcript                          offer id  \n",
       "0                NaN  9b98b8c7a33c4b65b9aebfe6a799e6d9  \n",
       "1                NaN  0b1e1539f2cc45b7b9fa7c272da2e1d7  \n",
       "2                NaN  2906b810c7d4411798c6938adc9daaa5  \n",
       "3                NaN  fafdcd668e3743c1bb461111dcafc2a4  \n",
       "4                NaN  4d5c57ea9a6940dd891ad53e9dbe8da0  "
      ]
     },
     "execution_count": 27,
     "metadata": {},
     "output_type": "execute_result"
    }
   ],
   "source": [
    "transcript2=transcript1\n",
    "\n",
    "transcript1_test=transcript1\n",
    "transcript1_test\n",
    "transcript1_test['all_offer id']=transcript1_test['offer id'].fillna(transcript1_test['offer_id'])\n",
    "transcript1_test=transcript1_test[['event', 'person', 'time', 'value',  'amount','reward', 'all_offer id']]\n",
    "transcript1_test.columns=('event', 'id', 'time', 'value',  'amount','reward_transcript', 'offer id')\n",
    "portfolio.columns=('channels', 'difficulty', 'duration', 'offer id', 'offer_type', 'reward_portfolio')\n",
    "\n",
    "transcript1_test.columns\n",
    "\n",
    "transcript1_test.head()"
   ]
  },
  {
   "cell_type": "markdown",
   "metadata": {},
   "source": [
    "# Data Preprocessing "
   ]
  },
  {
   "cell_type": "markdown",
   "metadata": {},
   "source": [
    "### Merge \n",
    "\n",
    "#### Here in these steps, I will link data together to analyze the data in depth by merging transcript with profile and portfolio by id and offer id\n"
   ]
  },
  {
   "cell_type": "code",
   "execution_count": 28,
   "metadata": {
    "scrolled": true
   },
   "outputs": [
    {
     "name": "stdout",
     "output_type": "stream",
     "text": [
      "(306534, 12)\n"
     ]
    },
    {
     "data": {
      "text/html": [
       "<div>\n",
       "<style scoped>\n",
       "    .dataframe tbody tr th:only-of-type {\n",
       "        vertical-align: middle;\n",
       "    }\n",
       "\n",
       "    .dataframe tbody tr th {\n",
       "        vertical-align: top;\n",
       "    }\n",
       "\n",
       "    .dataframe thead th {\n",
       "        text-align: right;\n",
       "    }\n",
       "</style>\n",
       "<table border=\"1\" class=\"dataframe\">\n",
       "  <thead>\n",
       "    <tr style=\"text-align: right;\">\n",
       "      <th></th>\n",
       "      <th>event</th>\n",
       "      <th>id</th>\n",
       "      <th>time</th>\n",
       "      <th>value</th>\n",
       "      <th>amount</th>\n",
       "      <th>reward_transcript</th>\n",
       "      <th>offer id</th>\n",
       "      <th>channels</th>\n",
       "      <th>difficulty</th>\n",
       "      <th>duration</th>\n",
       "      <th>offer_type</th>\n",
       "      <th>reward_portfolio</th>\n",
       "    </tr>\n",
       "  </thead>\n",
       "  <tbody>\n",
       "    <tr>\n",
       "      <th>0</th>\n",
       "      <td>offer received</td>\n",
       "      <td>78afa995795e4d85b5d9ceeca43f5fef</td>\n",
       "      <td>0</td>\n",
       "      <td>{'offer id': '9b98b8c7a33c4b65b9aebfe6a799e6d9'}</td>\n",
       "      <td>NaN</td>\n",
       "      <td>NaN</td>\n",
       "      <td>9b98b8c7a33c4b65b9aebfe6a799e6d9</td>\n",
       "      <td>[web, email, mobile]</td>\n",
       "      <td>5.0</td>\n",
       "      <td>7.0</td>\n",
       "      <td>bogo</td>\n",
       "      <td>5.0</td>\n",
       "    </tr>\n",
       "    <tr>\n",
       "      <th>1</th>\n",
       "      <td>offer received</td>\n",
       "      <td>a03223e636434f42ac4c3df47e8bac43</td>\n",
       "      <td>0</td>\n",
       "      <td>{'offer id': '0b1e1539f2cc45b7b9fa7c272da2e1d7'}</td>\n",
       "      <td>NaN</td>\n",
       "      <td>NaN</td>\n",
       "      <td>0b1e1539f2cc45b7b9fa7c272da2e1d7</td>\n",
       "      <td>[web, email]</td>\n",
       "      <td>20.0</td>\n",
       "      <td>10.0</td>\n",
       "      <td>discount</td>\n",
       "      <td>5.0</td>\n",
       "    </tr>\n",
       "    <tr>\n",
       "      <th>2</th>\n",
       "      <td>offer received</td>\n",
       "      <td>e2127556f4f64592b11af22de27a7932</td>\n",
       "      <td>0</td>\n",
       "      <td>{'offer id': '2906b810c7d4411798c6938adc9daaa5'}</td>\n",
       "      <td>NaN</td>\n",
       "      <td>NaN</td>\n",
       "      <td>2906b810c7d4411798c6938adc9daaa5</td>\n",
       "      <td>[web, email, mobile]</td>\n",
       "      <td>10.0</td>\n",
       "      <td>7.0</td>\n",
       "      <td>discount</td>\n",
       "      <td>2.0</td>\n",
       "    </tr>\n",
       "    <tr>\n",
       "      <th>3</th>\n",
       "      <td>offer received</td>\n",
       "      <td>8ec6ce2a7e7949b1bf142def7d0e0586</td>\n",
       "      <td>0</td>\n",
       "      <td>{'offer id': 'fafdcd668e3743c1bb461111dcafc2a4'}</td>\n",
       "      <td>NaN</td>\n",
       "      <td>NaN</td>\n",
       "      <td>fafdcd668e3743c1bb461111dcafc2a4</td>\n",
       "      <td>[web, email, mobile, social]</td>\n",
       "      <td>10.0</td>\n",
       "      <td>10.0</td>\n",
       "      <td>discount</td>\n",
       "      <td>2.0</td>\n",
       "    </tr>\n",
       "    <tr>\n",
       "      <th>4</th>\n",
       "      <td>offer received</td>\n",
       "      <td>68617ca6246f4fbc85e91a2a49552598</td>\n",
       "      <td>0</td>\n",
       "      <td>{'offer id': '4d5c57ea9a6940dd891ad53e9dbe8da0'}</td>\n",
       "      <td>NaN</td>\n",
       "      <td>NaN</td>\n",
       "      <td>4d5c57ea9a6940dd891ad53e9dbe8da0</td>\n",
       "      <td>[web, email, mobile, social]</td>\n",
       "      <td>10.0</td>\n",
       "      <td>5.0</td>\n",
       "      <td>bogo</td>\n",
       "      <td>10.0</td>\n",
       "    </tr>\n",
       "  </tbody>\n",
       "</table>\n",
       "</div>"
      ],
      "text/plain": [
       "            event                                id  time  \\\n",
       "0  offer received  78afa995795e4d85b5d9ceeca43f5fef     0   \n",
       "1  offer received  a03223e636434f42ac4c3df47e8bac43     0   \n",
       "2  offer received  e2127556f4f64592b11af22de27a7932     0   \n",
       "3  offer received  8ec6ce2a7e7949b1bf142def7d0e0586     0   \n",
       "4  offer received  68617ca6246f4fbc85e91a2a49552598     0   \n",
       "\n",
       "                                              value  amount  \\\n",
       "0  {'offer id': '9b98b8c7a33c4b65b9aebfe6a799e6d9'}     NaN   \n",
       "1  {'offer id': '0b1e1539f2cc45b7b9fa7c272da2e1d7'}     NaN   \n",
       "2  {'offer id': '2906b810c7d4411798c6938adc9daaa5'}     NaN   \n",
       "3  {'offer id': 'fafdcd668e3743c1bb461111dcafc2a4'}     NaN   \n",
       "4  {'offer id': '4d5c57ea9a6940dd891ad53e9dbe8da0'}     NaN   \n",
       "\n",
       "   reward_transcript                          offer id  \\\n",
       "0                NaN  9b98b8c7a33c4b65b9aebfe6a799e6d9   \n",
       "1                NaN  0b1e1539f2cc45b7b9fa7c272da2e1d7   \n",
       "2                NaN  2906b810c7d4411798c6938adc9daaa5   \n",
       "3                NaN  fafdcd668e3743c1bb461111dcafc2a4   \n",
       "4                NaN  4d5c57ea9a6940dd891ad53e9dbe8da0   \n",
       "\n",
       "                       channels  difficulty  duration offer_type  \\\n",
       "0          [web, email, mobile]         5.0       7.0       bogo   \n",
       "1                  [web, email]        20.0      10.0   discount   \n",
       "2          [web, email, mobile]        10.0       7.0   discount   \n",
       "3  [web, email, mobile, social]        10.0      10.0   discount   \n",
       "4  [web, email, mobile, social]        10.0       5.0       bogo   \n",
       "\n",
       "   reward_portfolio  \n",
       "0               5.0  \n",
       "1               5.0  \n",
       "2               2.0  \n",
       "3               2.0  \n",
       "4              10.0  "
      ]
     },
     "execution_count": 28,
     "metadata": {},
     "output_type": "execute_result"
    }
   ],
   "source": [
    "merge_transcript=pd.merge(transcript1_test,portfolio,on='offer id',how='left')\n",
    "print(merge_transcript.shape)\n",
    "merge_transcript.head()\n"
   ]
  },
  {
   "cell_type": "code",
   "execution_count": 29,
   "metadata": {
    "scrolled": true
   },
   "outputs": [
    {
     "name": "stdout",
     "output_type": "stream",
     "text": [
      "(306534, 18)\n"
     ]
    },
    {
     "data": {
      "text/html": [
       "<div>\n",
       "<style scoped>\n",
       "    .dataframe tbody tr th:only-of-type {\n",
       "        vertical-align: middle;\n",
       "    }\n",
       "\n",
       "    .dataframe tbody tr th {\n",
       "        vertical-align: top;\n",
       "    }\n",
       "\n",
       "    .dataframe thead th {\n",
       "        text-align: right;\n",
       "    }\n",
       "</style>\n",
       "<table border=\"1\" class=\"dataframe\">\n",
       "  <thead>\n",
       "    <tr style=\"text-align: right;\">\n",
       "      <th></th>\n",
       "      <th>event</th>\n",
       "      <th>id</th>\n",
       "      <th>time</th>\n",
       "      <th>value</th>\n",
       "      <th>amount</th>\n",
       "      <th>reward_transcript</th>\n",
       "      <th>offer id</th>\n",
       "      <th>channels</th>\n",
       "      <th>difficulty</th>\n",
       "      <th>duration</th>\n",
       "      <th>offer_type</th>\n",
       "      <th>reward_portfolio</th>\n",
       "      <th>age</th>\n",
       "      <th>became_member_on</th>\n",
       "      <th>gender</th>\n",
       "      <th>income</th>\n",
       "      <th>agerange</th>\n",
       "      <th>income_range</th>\n",
       "    </tr>\n",
       "  </thead>\n",
       "  <tbody>\n",
       "    <tr>\n",
       "      <th>0</th>\n",
       "      <td>offer received</td>\n",
       "      <td>78afa995795e4d85b5d9ceeca43f5fef</td>\n",
       "      <td>0</td>\n",
       "      <td>{'offer id': '9b98b8c7a33c4b65b9aebfe6a799e6d9'}</td>\n",
       "      <td>NaN</td>\n",
       "      <td>NaN</td>\n",
       "      <td>9b98b8c7a33c4b65b9aebfe6a799e6d9</td>\n",
       "      <td>[web, email, mobile]</td>\n",
       "      <td>5.0</td>\n",
       "      <td>7.0</td>\n",
       "      <td>bogo</td>\n",
       "      <td>5.0</td>\n",
       "      <td>75.0</td>\n",
       "      <td>2017.0</td>\n",
       "      <td>F</td>\n",
       "      <td>100000.0</td>\n",
       "      <td>70+</td>\n",
       "      <td>90K-100K</td>\n",
       "    </tr>\n",
       "    <tr>\n",
       "      <th>1</th>\n",
       "      <td>offer received</td>\n",
       "      <td>a03223e636434f42ac4c3df47e8bac43</td>\n",
       "      <td>0</td>\n",
       "      <td>{'offer id': '0b1e1539f2cc45b7b9fa7c272da2e1d7'}</td>\n",
       "      <td>NaN</td>\n",
       "      <td>NaN</td>\n",
       "      <td>0b1e1539f2cc45b7b9fa7c272da2e1d7</td>\n",
       "      <td>[web, email]</td>\n",
       "      <td>20.0</td>\n",
       "      <td>10.0</td>\n",
       "      <td>discount</td>\n",
       "      <td>5.0</td>\n",
       "      <td>NaN</td>\n",
       "      <td>NaN</td>\n",
       "      <td>NaN</td>\n",
       "      <td>NaN</td>\n",
       "      <td>NaN</td>\n",
       "      <td>NaN</td>\n",
       "    </tr>\n",
       "    <tr>\n",
       "      <th>2</th>\n",
       "      <td>offer received</td>\n",
       "      <td>e2127556f4f64592b11af22de27a7932</td>\n",
       "      <td>0</td>\n",
       "      <td>{'offer id': '2906b810c7d4411798c6938adc9daaa5'}</td>\n",
       "      <td>NaN</td>\n",
       "      <td>NaN</td>\n",
       "      <td>2906b810c7d4411798c6938adc9daaa5</td>\n",
       "      <td>[web, email, mobile]</td>\n",
       "      <td>10.0</td>\n",
       "      <td>7.0</td>\n",
       "      <td>discount</td>\n",
       "      <td>2.0</td>\n",
       "      <td>68.0</td>\n",
       "      <td>2018.0</td>\n",
       "      <td>M</td>\n",
       "      <td>70000.0</td>\n",
       "      <td>61-70</td>\n",
       "      <td>61K-70K</td>\n",
       "    </tr>\n",
       "    <tr>\n",
       "      <th>3</th>\n",
       "      <td>offer received</td>\n",
       "      <td>8ec6ce2a7e7949b1bf142def7d0e0586</td>\n",
       "      <td>0</td>\n",
       "      <td>{'offer id': 'fafdcd668e3743c1bb461111dcafc2a4'}</td>\n",
       "      <td>NaN</td>\n",
       "      <td>NaN</td>\n",
       "      <td>fafdcd668e3743c1bb461111dcafc2a4</td>\n",
       "      <td>[web, email, mobile, social]</td>\n",
       "      <td>10.0</td>\n",
       "      <td>10.0</td>\n",
       "      <td>discount</td>\n",
       "      <td>2.0</td>\n",
       "      <td>NaN</td>\n",
       "      <td>NaN</td>\n",
       "      <td>NaN</td>\n",
       "      <td>NaN</td>\n",
       "      <td>NaN</td>\n",
       "      <td>NaN</td>\n",
       "    </tr>\n",
       "    <tr>\n",
       "      <th>4</th>\n",
       "      <td>offer received</td>\n",
       "      <td>68617ca6246f4fbc85e91a2a49552598</td>\n",
       "      <td>0</td>\n",
       "      <td>{'offer id': '4d5c57ea9a6940dd891ad53e9dbe8da0'}</td>\n",
       "      <td>NaN</td>\n",
       "      <td>NaN</td>\n",
       "      <td>4d5c57ea9a6940dd891ad53e9dbe8da0</td>\n",
       "      <td>[web, email, mobile, social]</td>\n",
       "      <td>10.0</td>\n",
       "      <td>5.0</td>\n",
       "      <td>bogo</td>\n",
       "      <td>10.0</td>\n",
       "      <td>NaN</td>\n",
       "      <td>NaN</td>\n",
       "      <td>NaN</td>\n",
       "      <td>NaN</td>\n",
       "      <td>NaN</td>\n",
       "      <td>NaN</td>\n",
       "    </tr>\n",
       "  </tbody>\n",
       "</table>\n",
       "</div>"
      ],
      "text/plain": [
       "            event                                id  time  \\\n",
       "0  offer received  78afa995795e4d85b5d9ceeca43f5fef     0   \n",
       "1  offer received  a03223e636434f42ac4c3df47e8bac43     0   \n",
       "2  offer received  e2127556f4f64592b11af22de27a7932     0   \n",
       "3  offer received  8ec6ce2a7e7949b1bf142def7d0e0586     0   \n",
       "4  offer received  68617ca6246f4fbc85e91a2a49552598     0   \n",
       "\n",
       "                                              value  amount  \\\n",
       "0  {'offer id': '9b98b8c7a33c4b65b9aebfe6a799e6d9'}     NaN   \n",
       "1  {'offer id': '0b1e1539f2cc45b7b9fa7c272da2e1d7'}     NaN   \n",
       "2  {'offer id': '2906b810c7d4411798c6938adc9daaa5'}     NaN   \n",
       "3  {'offer id': 'fafdcd668e3743c1bb461111dcafc2a4'}     NaN   \n",
       "4  {'offer id': '4d5c57ea9a6940dd891ad53e9dbe8da0'}     NaN   \n",
       "\n",
       "   reward_transcript                          offer id  \\\n",
       "0                NaN  9b98b8c7a33c4b65b9aebfe6a799e6d9   \n",
       "1                NaN  0b1e1539f2cc45b7b9fa7c272da2e1d7   \n",
       "2                NaN  2906b810c7d4411798c6938adc9daaa5   \n",
       "3                NaN  fafdcd668e3743c1bb461111dcafc2a4   \n",
       "4                NaN  4d5c57ea9a6940dd891ad53e9dbe8da0   \n",
       "\n",
       "                       channels  difficulty  duration offer_type  \\\n",
       "0          [web, email, mobile]         5.0       7.0       bogo   \n",
       "1                  [web, email]        20.0      10.0   discount   \n",
       "2          [web, email, mobile]        10.0       7.0   discount   \n",
       "3  [web, email, mobile, social]        10.0      10.0   discount   \n",
       "4  [web, email, mobile, social]        10.0       5.0       bogo   \n",
       "\n",
       "   reward_portfolio   age  became_member_on gender    income agerange  \\\n",
       "0               5.0  75.0            2017.0      F  100000.0      70+   \n",
       "1               5.0   NaN               NaN    NaN       NaN      NaN   \n",
       "2               2.0  68.0            2018.0      M   70000.0    61-70   \n",
       "3               2.0   NaN               NaN    NaN       NaN      NaN   \n",
       "4              10.0   NaN               NaN    NaN       NaN      NaN   \n",
       "\n",
       "  income_range  \n",
       "0     90K-100K  \n",
       "1          NaN  \n",
       "2      61K-70K  \n",
       "3          NaN  \n",
       "4          NaN  "
      ]
     },
     "execution_count": 29,
     "metadata": {},
     "output_type": "execute_result"
    }
   ],
   "source": [
    "merge_transcript=pd.merge(merge_transcript,profile,on='id',how='left')\n",
    "print(merge_transcript.shape)\n",
    "merge_transcript.head()"
   ]
  },
  {
   "cell_type": "markdown",
   "metadata": {},
   "source": [
    "### Check the NA values"
   ]
  },
  {
   "cell_type": "markdown",
   "metadata": {},
   "source": [
    "# Corrlation"
   ]
  },
  {
   "cell_type": "code",
   "execution_count": 30,
   "metadata": {
    "scrolled": true
   },
   "outputs": [
    {
     "data": {
      "image/png": "[encoded data removed]",
      "text/plain": [
       "<matplotlib.figure.Figure at 0x7f22b307cda0>"
      ]
     },
     "metadata": {
      "needs_background": "light"
     },
     "output_type": "display_data"
    }
   ],
   "source": [
    "\n",
    "\n",
    "corr = merge_transcript.corr()\n",
    "\n",
    "# corr = merge_transcript_test.corr()\n",
    "fig = plt.figure()\n",
    "ax = fig.add_subplot(111)\n",
    "cax = ax.matshow(corr,cmap='coolwarm', vmin=-1, vmax=1)\n",
    "fig.colorbar(cax)\n",
    "ticks = np.arange(0,len(merge_transcript.columns),1)\n",
    "ax.set_xticks(ticks)\n",
    "plt.xticks(rotation=90)\n",
    "ax.set_yticks(ticks)\n",
    "ax.set_xticklabels(merge_transcript.columns)\n",
    "ax.set_yticklabels(merge_transcript.columns)\n",
    "plt.show()"
   ]
  },
  {
   "cell_type": "code",
   "execution_count": 31,
   "metadata": {
    "scrolled": true
   },
   "outputs": [
    {
     "data": {
      "text/plain": [
       "Index(['event', 'id', 'time', 'value', 'amount', 'reward_transcript',\n",
       "       'offer id', 'channels', 'difficulty', 'duration', 'offer_type',\n",
       "       'reward_portfolio', 'age', 'became_member_on', 'gender', 'income',\n",
       "       'agerange', 'income_range', 'bogo', 'discount', 'informational',\n",
       "       'offer_completed', 'offer_received', 'offer_viewed', 'transaction'],\n",
       "      dtype='object')"
      ]
     },
     "execution_count": 31,
     "metadata": {},
     "output_type": "execute_result"
    }
   ],
   "source": [
    "merge_transcript_test=merge_transcript\n",
    "merge_transcript_test['bogo']=np.where(merge_transcript_test['offer_type']=='bogo',1,0)\n",
    "merge_transcript_test['discount']=np.where(merge_transcript_test['offer_type']=='discount',1,0)\n",
    "merge_transcript_test['informational']=np.where(merge_transcript_test['offer_type']=='informational',1,0)\n",
    "merge_transcript_test['offer_completed']=np.where(merge_transcript_test['event']=='offer completed',1,0)\n",
    "merge_transcript_test['offer_received']=np.where(merge_transcript_test['event']=='offer received',1,0)\n",
    "merge_transcript_test['offer_viewed']=np.where(merge_transcript_test['event']=='offer viewed',1,0)\n",
    "merge_transcript_test['transaction']=np.where(merge_transcript_test['event']=='transaction',1,0)\n",
    "\n",
    "\n",
    "merge_transcript_test.columns"
   ]
  },
  {
   "cell_type": "markdown",
   "metadata": {},
   "source": [
    "# Event Analysis"
   ]
  },
  {
   "cell_type": "code",
   "execution_count": 32,
   "metadata": {
    "scrolled": false
   },
   "outputs": [
    {
     "name": "stdout",
     "output_type": "stream",
     "text": [
      "Event Type Distribution (%)\n",
      "event\n",
      "offer completed    10.954413\n",
      "offer received     24.883700\n",
      "offer viewed       18.831516\n",
      "transaction        45.330371\n",
      "Name: person, dtype: float64\n"
     ]
    },
    {
     "data": {
      "image/png": "[encoded data removed]",
      "text/plain": [
       "<matplotlib.figure.Figure at 0x7f22b31c8cf8>"
      ]
     },
     "metadata": {
      "needs_background": "light"
     },
     "output_type": "display_data"
    },
    {
     "name": "stdout",
     "output_type": "stream",
     "text": [
      "             event  difficulty\n",
      "0  offer completed    9.269841\n",
      "1   offer received    7.707723\n",
      "2     offer viewed    7.213235\n",
      "3      transaction         NaN\n"
     ]
    },
    {
     "data": {
      "image/png": "[encoded data removed]",
      "text/plain": [
       "<matplotlib.figure.Figure at 0x7f22b31a3b00>"
      ]
     },
     "metadata": {
      "needs_background": "light"
     },
     "output_type": "display_data"
    },
    {
     "name": "stdout",
     "output_type": "stream",
     "text": [
      "Offer Type By Gender\n",
      "  gender  offer_completed  offer_received  offer_viewed\n",
      "0      F            15477           27456         20786\n",
      "1      M            16466           38129         28301\n",
      "2      O              501             916           773\n"
     ]
    },
    {
     "data": {
      "image/png": "[encoded data removed]",
      "text/plain": [
       "<matplotlib.figure.Figure at 0x7f22b3123b00>"
      ]
     },
     "metadata": {
      "needs_background": "light"
     },
     "output_type": "display_data"
    },
    {
     "name": "stdout",
     "output_type": "stream",
     "text": [
      "Event By Age\n",
      "          offer_completed  offer_received  offer_viewed  transaction\n",
      "agerange                                                            \n",
      "<12                     0               0             0            0\n",
      "13-20                 536            1508          1062         3438\n",
      "21-30                2410            6180          4263        14184\n",
      "31-40                3193            7202          5286        15851\n",
      "41-50                5106           10626          8344        19535\n",
      "51-60                8357           16177         12197        27976\n",
      "61-70                6717           13062          9865        22664\n",
      "70+                  6125           11746          8843        20309\n",
      "Event By income\n",
      "              offer_completed  offer_received  offer_viewed  transaction\n",
      "income_range                                                            \n",
      "30K-40K                  3258            9271          6363        20894\n",
      "41K-50K                  3174            8444          5820        18567\n",
      "51K-60K                  5544           12014          9429        23770\n",
      "61K-70K                  5071           10481          8242        21072\n",
      "71K-80K                  5476            9934          7588        16441\n",
      "81K-90K                  3796            6147          4920         8742\n",
      "90K-100K                 3182            5288          4239         7470\n",
      "100K+                    2823            4526          2997         6127\n",
      "Event By income\n",
      "                  offer_completed  offer_received  offer_viewed  transaction\n",
      "became_member_on                                                            \n",
      "2013.0                        561            1226           913         3408\n",
      "2014.0                       1321            2973          2259         8183\n",
      "2015.0                       4319            7150          5376        17574\n",
      "2016.0                       8928           13520         10319        31167\n",
      "2017.0                      12119           25125         18819        44081\n",
      "2018.0                       5196           16507         12174        19544\n"
     ]
    },
    {
     "data": {
      "text/plain": [
       "(array([0, 1, 2, 3, 4, 5]), <a list of 6 Text xticklabel objects>)"
      ]
     },
     "execution_count": 32,
     "metadata": {},
     "output_type": "execute_result"
    },
    {
     "data": {
      "image/png": "[encoded data removed]",
      "text/plain": [
       "<matplotlib.figure.Figure at 0x7f22b326bcc0>"
      ]
     },
     "metadata": {
      "needs_background": "light"
     },
     "output_type": "display_data"
    },
    {
     "data": {
      "image/png": "[encoded data removed]",
      "text/plain": [
       "<matplotlib.figure.Figure at 0x7f22b3369e48>"
      ]
     },
     "metadata": {
      "needs_background": "light"
     },
     "output_type": "display_data"
    },
    {
     "data": {
      "image/png": "[encoded data removed]",
      "text/plain": [
       "<matplotlib.figure.Figure at 0x7f22b33de8d0>"
      ]
     },
     "metadata": {
      "needs_background": "light"
     },
     "output_type": "display_data"
    }
   ],
   "source": [
    "print('Event Type Distribution (%)')\n",
    "print(transcript1.groupby('event').person.count()/transcript1.shape[0] * 100.00)\n",
    "\n",
    "transcript_by_event = transcript['event'].value_counts()\n",
    "transcript_by_event\n",
    "plt.bar(transcript_by_event.index,transcript_by_event.values)\n",
    "plt.title('Event Type Distribution')\n",
    "plt.xlabel('Event')\n",
    "plt.ylabel('# of customers')\n",
    "plt.show()\n",
    "\n",
    "\n",
    "# ***********Event by difficulty************\n",
    "\n",
    "event_difficulty=merge_transcript_test.groupby(['event'],as_index=False)['difficulty'].mean()\n",
    "\n",
    "print(event_difficulty)\n",
    "\n",
    "plt.bar(event_difficulty['event'],event_difficulty['difficulty'])\n",
    "plt.title('Event by Difficulty')\n",
    "plt.xlabel('Event')\n",
    "plt.ylabel('Difficulty')\n",
    "plt.show()\n",
    "\n",
    "# ***********Event by Gender************\n",
    "offer_type_gender_group=merge_transcript_test.groupby(['gender'],as_index=False)['offer_completed','offer_received','offer_viewed'].sum()\n",
    "print('Offer Type By Gender')\n",
    "\n",
    "print(offer_type_gender_group)\n",
    "\n",
    "N = 3\n",
    "ind = np.arange(N) \n",
    "width = 0.25\n",
    "  \n",
    "xvals = offer_type_gender_group.offer_completed\n",
    "bar1 = plt.bar(ind, xvals, width, color = 'r')\n",
    "  \n",
    "yvals = offer_type_gender_group.offer_received\n",
    "bar2 = plt.bar(ind+width, yvals, width, color='g')\n",
    "  \n",
    "zvals = offer_type_gender_group.offer_viewed\n",
    "bar3 = plt.bar(ind+width*2, zvals, width, color = 'b')\n",
    "\n",
    "# gvals = offer_type_gender_group.transaction\n",
    "# bar4 = plt.bar(ind+width*4, gvals, width, color = 'b')\n",
    "\n",
    "plt.xlabel(\"Gender\")\n",
    "plt.ylabel('# of customers')\n",
    "plt.title(\"Offer Type by Gender\")\n",
    "  \n",
    "plt.xticks(ind+width,['Female', 'Male', 'Other'])\n",
    "plt.legend( (bar1, bar2, bar3), ('offer_completed', 'offer_received', 'offer_viewed') )\n",
    "plt.show()\n",
    "\n",
    "\n",
    "# ***********Event by Age************\n",
    "\n",
    "event_age=merge_transcript_test.groupby(['agerange'])['offer_completed','offer_received','offer_viewed','transaction'].sum()\n",
    "# print(merge_transcript_test.groupby(['agerange','event'])['id'].count()/merge_transcript_test.shape[0] * 100.00)\n",
    "\n",
    "print('Event By Age')\n",
    "print(event_age)\n",
    "\n",
    "\n",
    "# Very simple one-liner using our agg_tips DataFrame.\n",
    "event_age.plot(kind='bar', stacked=True)\n",
    "\n",
    "# Just add a title and rotate the x-axis labels to be horizontal.\n",
    "plt.title('Event by Age')\n",
    "plt.xticks(rotation=90, ha='center')\n",
    "\n",
    "\n",
    "# ***********Event by Income************\n",
    "\n",
    "event_income=merge_transcript_test.groupby(['income_range'])['offer_completed','offer_received','offer_viewed','transaction'].sum()\n",
    "# print(merge_transcript_test.groupby(['agerange','event'])['id'].count()/merge_transcript_test.shape[0] * 100.00)\n",
    "\n",
    "print('Event By income')\n",
    "print(event_income)\n",
    "\n",
    "\n",
    "# Very simple one-liner using our agg_tips DataFrame.\n",
    "event_income.plot(kind='bar', stacked=True)\n",
    "\n",
    "# Just add a title and rotate the x-axis labels to be horizontal.\n",
    "plt.title('Event by Income')\n",
    "plt.xticks(rotation=90, ha='center')\n",
    "\n",
    "\n",
    "# ***********Event by became_member_on************\n",
    "\n",
    "event_year=merge_transcript_test.groupby(['became_member_on'])['offer_completed','offer_received','offer_viewed','transaction'].sum()\n",
    "# print(merge_transcript_test.groupby(['agerange','event'])['id'].count()/merge_transcript_test.shape[0] * 100.00)\n",
    "\n",
    "print('Event By income')\n",
    "print(event_year)\n",
    "\n",
    "\n",
    "# Very simple one-liner using our agg_tips DataFrame.\n",
    "event_year.plot(kind='bar', stacked=True)\n",
    "\n",
    "# Just add a title and rotate the x-axis labels to be horizontal.\n",
    "plt.title('Event by Year')\n",
    "plt.xticks(rotation=90, ha='center')"
   ]
  },
  {
   "cell_type": "markdown",
   "metadata": {},
   "source": [
    "# Offer Type Analysis"
   ]
  },
  {
   "cell_type": "code",
   "execution_count": 33,
   "metadata": {
    "scrolled": false
   },
   "outputs": [
    {
     "name": "stdout",
     "output_type": "stream",
     "text": [
      "Offer Type per customers\n",
      "      offer_type     id\n",
      "0           bogo  71617\n",
      "1       discount  69898\n",
      "2  informational  26066\n"
     ]
    },
    {
     "data": {
      "image/png": "[encoded data removed]",
      "text/plain": [
       "<matplotlib.figure.Figure at 0x7f22b3430668>"
      ]
     },
     "metadata": {
      "needs_background": "light"
     },
     "output_type": "display_data"
    },
    {
     "name": "stdout",
     "output_type": "stream",
     "text": [
      "Offer Type By Gender\n",
      "  gender   bogo  discount  informational\n",
      "0      F  27619     26652           9448\n",
      "1      M  35301     34739          12856\n",
      "2      O    914       920            356\n"
     ]
    },
    {
     "data": {
      "image/png": "[encoded data removed]",
      "text/plain": [
       "<matplotlib.figure.Figure at 0x7f22b31eb9e8>"
      ]
     },
     "metadata": {
      "needs_background": "light"
     },
     "output_type": "display_data"
    },
    {
     "name": "stdout",
     "output_type": "stream",
     "text": [
      "           bogo  discount  informational\n",
      "agerange                                \n",
      "<12           0         0              0\n",
      "13-20      1402      1185            519\n",
      "21-30      5491      5411           1951\n",
      "31-40      6611      6644           2426\n",
      "41-50     10448      9903           3725\n",
      "51-60     15716     15402           5613\n",
      "61-70     12637     12672           4335\n",
      "70+       11529     11094           4091\n"
     ]
    },
    {
     "data": {
      "text/plain": [
       "(array([0, 1, 2, 3, 4, 5, 6, 7]), <a list of 8 Text xticklabel objects>)"
      ]
     },
     "execution_count": 33,
     "metadata": {},
     "output_type": "execute_result"
    },
    {
     "data": {
      "image/png": "[encoded data removed]",
      "text/plain": [
       "<matplotlib.figure.Figure at 0x7f22b41ec470>"
      ]
     },
     "metadata": {
      "needs_background": "light"
     },
     "output_type": "display_data"
    }
   ],
   "source": [
    "# ***********Offer Type per customers************\n",
    "\n",
    "offer_type_group=merge_transcript.groupby(['offer_type'],as_index=False)['id'].count()\n",
    "print('Offer Type per customers')\n",
    "print(offer_type_group)\n",
    "\n",
    "plt.bar(offer_type_group['offer_type'],offer_type_group['id'])\n",
    "plt.title('Offer Type per customers')\n",
    "plt.xlabel('Type of Offer')\n",
    "plt.ylabel('# of customers')\n",
    "plt.show()\n",
    "\n",
    "# ***********Offer Type by Gender************\n",
    "offer_type_gender_group=merge_transcript_test.groupby(['gender'],as_index=False)['bogo','discount','informational'].sum()\n",
    "print('Offer Type By Gender')\n",
    "\n",
    "print(offer_type_gender_group)\n",
    "\n",
    "N = 3\n",
    "ind = np.arange(N) \n",
    "width = 0.25\n",
    "  \n",
    "xvals = offer_type_gender_group.bogo\n",
    "bar1 = plt.bar(ind, xvals, width, color = 'r')\n",
    "  \n",
    "yvals = offer_type_gender_group.discount\n",
    "bar2 = plt.bar(ind+width, yvals, width, color='g')\n",
    "  \n",
    "zvals = offer_type_gender_group.informational\n",
    "bar3 = plt.bar(ind+width*2, zvals, width, color = 'b')\n",
    "  \n",
    "plt.xlabel(\"Gender\")\n",
    "plt.ylabel('# of customers')\n",
    "plt.title(\"Offer Type by Gender\")\n",
    "  \n",
    "plt.xticks(ind+width,['Female', 'Male', 'Other'])\n",
    "plt.legend( (bar1, bar2, bar3), ('bogo', 'discount', 'informational') )\n",
    "plt.show()\n",
    "\n",
    "\n",
    "# ***********Offer Type by Age************\n",
    "\n",
    "Offer_type_age=merge_transcript_test.groupby(['agerange'])['bogo','discount','informational'].sum()\n",
    "# print('Offer Type By Age')\n",
    "print(Offer_type_age)\n",
    "\n",
    "\n",
    "# Very simple one-liner using our agg_tips DataFrame.\n",
    "Offer_type_age.plot(kind='bar', stacked=True)\n",
    "\n",
    "# Just add a title and rotate the x-axis labels to be horizontal.\n",
    "plt.title('Offer Type by Age')\n",
    "plt.xticks(rotation=90, ha='center')"
   ]
  },
  {
   "cell_type": "markdown",
   "metadata": {},
   "source": [
    "# Relations Between Events & Offer Types"
   ]
  },
  {
   "cell_type": "code",
   "execution_count": 34,
   "metadata": {
    "scrolled": false
   },
   "outputs": [
    {
     "name": "stdout",
     "output_type": "stream",
     "text": [
      "                  bogo  discount  informational\n",
      "event                                          \n",
      "offer completed  15669     17910              0\n",
      "offer received   30499     30543          15235\n",
      "offer viewed     25449     21445          10831\n",
      "transaction          0         0              0\n"
     ]
    },
    {
     "data": {
      "text/plain": [
       "(array([0, 1, 2, 3]), <a list of 4 Text xticklabel objects>)"
      ]
     },
     "execution_count": 34,
     "metadata": {},
     "output_type": "execute_result"
    },
    {
     "data": {
      "image/png": "[encoded data removed]",
      "text/plain": [
       "<matplotlib.figure.Figure at 0x7f22b32d60b8>"
      ]
     },
     "metadata": {
      "needs_background": "light"
     },
     "output_type": "display_data"
    }
   ],
   "source": [
    "event_offer_Type=merge_transcript_test.groupby(['event'])['bogo','discount','informational'].sum()\n",
    "print(event_offer_Type)\n",
    "# Very simple one-liner using our agg_tips DataFrame.\n",
    "event_offer_Type.plot(kind='bar', stacked=True)\n",
    "\n",
    "# Just add a title and rotate the x-axis labels to be horizontal.\n",
    "plt.title('Events by offer type')\n",
    "\n",
    "plt.xticks(rotation=0, ha='center')"
   ]
  },
  {
   "cell_type": "markdown",
   "metadata": {},
   "source": [
    "# Who's Utlized the Offers by Age "
   ]
  },
  {
   "cell_type": "code",
   "execution_count": 35,
   "metadata": {
    "scrolled": false
   },
   "outputs": [
    {
     "name": "stdout",
     "output_type": "stream",
     "text": [
      "          use_offer_%  transaction_%\n",
      "agerange                            \n",
      "<12               NaN            NaN\n",
      "13-20       47.463325      52.536675\n",
      "21-30       47.538558      52.461442\n",
      "31-40       49.730433      50.269567\n",
      "41-50       55.206255      44.793745\n",
      "51-60       56.765110      43.234890\n",
      "61-70       56.672020      43.327980\n",
      "70+         56.810497      43.189503\n"
     ]
    },
    {
     "data": {
      "text/plain": [
       "(array([0, 1, 2, 3, 4, 5, 6, 7]), <a list of 8 Text xticklabel objects>)"
      ]
     },
     "execution_count": 35,
     "metadata": {},
     "output_type": "execute_result"
    },
    {
     "data": {
      "image/png": "[encoded data removed]",
      "text/plain": [
       "<matplotlib.figure.Figure at 0x7f22b432b358>"
      ]
     },
     "metadata": {
      "needs_background": "light"
     },
     "output_type": "display_data"
    }
   ],
   "source": [
    "test=merge_transcript_test\n",
    "test['use_offer']=test['offer_completed']+test['offer_received']+test['offer_viewed']\n",
    "test_g=test.groupby(['agerange'])['use_offer','transaction'].sum()\n",
    "test_g['total']=test_g['use_offer']+test_g['transaction']\n",
    "test_g['use_offer_%']=test_g['use_offer']/test_g['total']*100\n",
    "test_g['transaction_%']=test_g['transaction']/test_g['total']*100\n",
    "test_g=test_g[['use_offer_%', 'transaction_%']]\n",
    "print(test_g)\n",
    "# ***********Offer Type by Gender************\n",
    "\n",
    "# Very simple one-liner using our agg_tips DataFrame.\n",
    "test_g.plot(kind='bar', stacked=True)\n",
    "\n",
    "# Just add a title and rotate the x-axis labels to be horizontal.\n",
    "plt.title('Events by offer type')\n",
    "\n",
    "plt.xticks(rotation=0, ha='center')"
   ]
  },
  {
   "cell_type": "markdown",
   "metadata": {},
   "source": [
    "# The most successful offers "
   ]
  },
  {
   "cell_type": "code",
   "execution_count": 36,
   "metadata": {
    "scrolled": false
   },
   "outputs": [
    {
     "name": "stdout",
     "output_type": "stream",
     "text": [
      "                           offer id     offer_type  success_%\n",
      "6  9b98b8c7a33c4b65b9aebfe6a799e6d9           bogo  26.873226\n",
      "9  fafdcd668e3743c1bb461111dcafc2a4       discount  26.268465\n",
      "1  2298d6c36e964ae4a3e7e9706d1fb8c2       discount  25.602066\n",
      "2  2906b810c7d4411798c6938adc9daaa5       discount  25.477263\n",
      "0  0b1e1539f2cc45b7b9fa7c272da2e1d7       discount  24.870918\n",
      "8  f19421c1d4aa40978ebb69ca19b0e20d           bogo  22.455700\n",
      "7  ae264e3637204a6fb9bb56bc8210ddfd           bogo  20.418558\n",
      "4  4d5c57ea9a6940dd891ad53e9dbe8da0           bogo  18.280101\n",
      "3  3f207df678b143eea3cee63160fa8bed  informational   0.000000\n",
      "5  5a8bc65990b245e5a138643cd4eb9837  informational   0.000000\n"
     ]
    },
    {
     "data": {
      "image/png": "[encoded data removed]",
      "text/plain": [
       "<matplotlib.figure.Figure at 0x7f22b43c6400>"
      ]
     },
     "metadata": {
      "needs_background": "light"
     },
     "output_type": "display_data"
    }
   ],
   "source": [
    "test=merge_transcript_test\n",
    "test['use_offer']=test['offer_completed']+test['offer_received']+test['offer_viewed']+test['transaction']\n",
    "test_g=test.groupby(['offer id','offer_type'],as_index=False)['use_offer','offer_completed'].sum()\n",
    "test_g['success_%']=test_g['offer_completed']/test_g['use_offer']*100\n",
    "# test_g['transaction_%']=test_g['transaction']/test_g['total']*100\n",
    "test_g=test_g[['offer id','offer_type','success_%']]\n",
    "test_g=test_g.sort_values('success_%', ascending=False)\n",
    "\n",
    "print(test_g)\n",
    "# ***********Offer Type by Gender************\n",
    "plt.bar(test_g.index,test_g['success_%'])\n",
    "plt.title('Offer Type per customers')\n",
    "plt.xlabel('Offer')\n",
    "plt.ylabel('success_%')\n",
    "plt.xticks(rotation=30, ha='center')\n",
    "plt.show()\n"
   ]
  },
  {
   "cell_type": "markdown",
   "metadata": {},
   "source": [
    "# Difficulty Analysis"
   ]
  },
  {
   "cell_type": "code",
   "execution_count": 37,
   "metadata": {},
   "outputs": [
    {
     "name": "stdout",
     "output_type": "stream",
     "text": [
      "Event by Difficulty\n",
      "             event  difficulty\n",
      "0  offer completed    9.269841\n",
      "1   offer received    7.707723\n",
      "2     offer viewed    7.213235\n",
      "3      transaction         NaN\n"
     ]
    },
    {
     "data": {
      "image/png": "[encoded data removed]",
      "text/plain": [
       "<matplotlib.figure.Figure at 0x7f22b31a3240>"
      ]
     },
     "metadata": {
      "needs_background": "light"
     },
     "output_type": "display_data"
    },
    {
     "name": "stdout",
     "output_type": "stream",
     "text": [
      "Offer Type by Difficulty\n",
      "      offer_type  difficulty\n",
      "0           bogo    7.533197\n",
      "1       discount   11.102936\n",
      "2  informational    0.000000\n"
     ]
    },
    {
     "data": {
      "image/png": "[encoded data removed]",
      "text/plain": [
       "<matplotlib.figure.Figure at 0x7f22b428e710>"
      ]
     },
     "metadata": {
      "needs_background": "light"
     },
     "output_type": "display_data"
    }
   ],
   "source": [
    "#************Event by Difficulty*************\n",
    "event_difficulty=merge_transcript_test.groupby(['event'],as_index=False)['difficulty'].mean()\n",
    "print('Event by Difficulty')\n",
    "print(event_difficulty)\n",
    "\n",
    "plt.bar(event_difficulty['event'],event_difficulty['difficulty'])\n",
    "plt.title('Event by Difficulty')\n",
    "plt.xlabel('Event')\n",
    "plt.ylabel('Difficulty')\n",
    "plt.show()\n",
    "\n",
    "#************Offer Type by Difficulty*************\n",
    "\n",
    "offer_type_difficulty=merge_transcript_test.groupby(['offer_type'],as_index=False)['difficulty'].mean()\n",
    "print('Offer Type by Difficulty')\n",
    "print(offer_type_difficulty)\n",
    "offer_type_difficulty=offer_type_difficulty.drop(offer_type_difficulty[offer_type_difficulty.difficulty==0].index)\n",
    "\n",
    "\n",
    "plt.bar(offer_type_difficulty['offer_type'],offer_type_difficulty['difficulty'])\n",
    "plt.title('Offer Type by Difficulty')\n",
    "plt.xlabel('Offer Type')\n",
    "plt.ylabel('Difficulty')\n",
    "plt.show()"
   ]
  },
  {
   "cell_type": "code",
   "execution_count": 38,
   "metadata": {
    "scrolled": true
   },
   "outputs": [
    {
     "name": "stdout",
     "output_type": "stream",
     "text": [
      "   duration  difficulty\n",
      "0       3.0    0.000000\n",
      "1       4.0    0.000000\n",
      "2       5.0    7.439162\n",
      "3       7.0    7.984509\n",
      "4      10.0   14.045364\n"
     ]
    }
   ],
   "source": [
    "duration_difficulty=merge_transcript_test.groupby(['duration'],as_index=False)['difficulty'].mean()\n",
    "print(duration_difficulty)\n"
   ]
  },
  {
   "cell_type": "code",
   "execution_count": 39,
   "metadata": {
    "scrolled": false
   },
   "outputs": [
    {
     "data": {
      "text/html": [
       "<div>\n",
       "<style scoped>\n",
       "    .dataframe tbody tr th:only-of-type {\n",
       "        vertical-align: middle;\n",
       "    }\n",
       "\n",
       "    .dataframe tbody tr th {\n",
       "        vertical-align: top;\n",
       "    }\n",
       "\n",
       "    .dataframe thead th {\n",
       "        text-align: right;\n",
       "    }\n",
       "</style>\n",
       "<table border=\"1\" class=\"dataframe\">\n",
       "  <thead>\n",
       "    <tr style=\"text-align: right;\">\n",
       "      <th></th>\n",
       "      <th>time</th>\n",
       "      <th>amount</th>\n",
       "      <th>reward_transcript</th>\n",
       "      <th>difficulty</th>\n",
       "      <th>duration</th>\n",
       "      <th>reward_portfolio</th>\n",
       "      <th>age</th>\n",
       "      <th>became_member_on</th>\n",
       "      <th>income</th>\n",
       "      <th>bogo</th>\n",
       "      <th>discount</th>\n",
       "      <th>informational</th>\n",
       "      <th>offer_completed</th>\n",
       "      <th>offer_received</th>\n",
       "      <th>offer_viewed</th>\n",
       "      <th>transaction</th>\n",
       "      <th>use_offer</th>\n",
       "    </tr>\n",
       "  </thead>\n",
       "  <tbody>\n",
       "    <tr>\n",
       "      <th>time</th>\n",
       "      <td>1.000000</td>\n",
       "      <td>0.004678</td>\n",
       "      <td>-0.023602</td>\n",
       "      <td>0.022529</td>\n",
       "      <td>0.024917</td>\n",
       "      <td>0.005501</td>\n",
       "      <td>0.002068</td>\n",
       "      <td>-0.008416</td>\n",
       "      <td>-0.003443</td>\n",
       "      <td>-0.035980</td>\n",
       "      <td>-0.020997</td>\n",
       "      <td>-0.037156</td>\n",
       "      <td>0.060702</td>\n",
       "      <td>-0.097121</td>\n",
       "      <td>-0.029075</td>\n",
       "      <td>0.069098</td>\n",
       "      <td>NaN</td>\n",
       "    </tr>\n",
       "    <tr>\n",
       "      <th>amount</th>\n",
       "      <td>0.004678</td>\n",
       "      <td>1.000000</td>\n",
       "      <td>NaN</td>\n",
       "      <td>NaN</td>\n",
       "      <td>NaN</td>\n",
       "      <td>NaN</td>\n",
       "      <td>0.091624</td>\n",
       "      <td>0.030967</td>\n",
       "      <td>0.237198</td>\n",
       "      <td>NaN</td>\n",
       "      <td>NaN</td>\n",
       "      <td>NaN</td>\n",
       "      <td>NaN</td>\n",
       "      <td>NaN</td>\n",
       "      <td>NaN</td>\n",
       "      <td>NaN</td>\n",
       "      <td>NaN</td>\n",
       "    </tr>\n",
       "    <tr>\n",
       "      <th>reward_transcript</th>\n",
       "      <td>-0.023602</td>\n",
       "      <td>NaN</td>\n",
       "      <td>1.000000</td>\n",
       "      <td>0.070550</td>\n",
       "      <td>-0.466142</td>\n",
       "      <td>1.000000</td>\n",
       "      <td>0.030248</td>\n",
       "      <td>0.024863</td>\n",
       "      <td>0.074120</td>\n",
       "      <td>0.756817</td>\n",
       "      <td>-0.756817</td>\n",
       "      <td>NaN</td>\n",
       "      <td>NaN</td>\n",
       "      <td>NaN</td>\n",
       "      <td>NaN</td>\n",
       "      <td>NaN</td>\n",
       "      <td>NaN</td>\n",
       "    </tr>\n",
       "    <tr>\n",
       "      <th>difficulty</th>\n",
       "      <td>0.022529</td>\n",
       "      <td>NaN</td>\n",
       "      <td>0.070550</td>\n",
       "      <td>1.000000</td>\n",
       "      <td>0.768318</td>\n",
       "      <td>0.425746</td>\n",
       "      <td>0.009898</td>\n",
       "      <td>-0.008276</td>\n",
       "      <td>0.026340</td>\n",
       "      <td>-0.054274</td>\n",
       "      <td>0.544936</td>\n",
       "      <td>-0.667311</td>\n",
       "      <td>0.140733</td>\n",
       "      <td>-0.025829</td>\n",
       "      <td>-0.091479</td>\n",
       "      <td>NaN</td>\n",
       "      <td>NaN</td>\n",
       "    </tr>\n",
       "    <tr>\n",
       "      <th>duration</th>\n",
       "      <td>0.024917</td>\n",
       "      <td>NaN</td>\n",
       "      <td>-0.466142</td>\n",
       "      <td>0.768318</td>\n",
       "      <td>1.000000</td>\n",
       "      <td>0.049923</td>\n",
       "      <td>0.006579</td>\n",
       "      <td>-0.013612</td>\n",
       "      <td>0.015368</td>\n",
       "      <td>-0.264435</td>\n",
       "      <td>0.731885</td>\n",
       "      <td>-0.634794</td>\n",
       "      <td>0.167688</td>\n",
       "      <td>-0.045798</td>\n",
       "      <td>-0.093258</td>\n",
       "      <td>NaN</td>\n",
       "      <td>NaN</td>\n",
       "    </tr>\n",
       "    <tr>\n",
       "      <th>reward_portfolio</th>\n",
       "      <td>0.005501</td>\n",
       "      <td>NaN</td>\n",
       "      <td>1.000000</td>\n",
       "      <td>0.425746</td>\n",
       "      <td>0.049923</td>\n",
       "      <td>1.000000</td>\n",
       "      <td>0.000911</td>\n",
       "      <td>-0.000117</td>\n",
       "      <td>0.014786</td>\n",
       "      <td>0.797281</td>\n",
       "      <td>-0.386575</td>\n",
       "      <td>-0.562326</td>\n",
       "      <td>0.071856</td>\n",
       "      <td>-0.059149</td>\n",
       "      <td>0.001458</td>\n",
       "      <td>NaN</td>\n",
       "      <td>NaN</td>\n",
       "    </tr>\n",
       "    <tr>\n",
       "      <th>age</th>\n",
       "      <td>0.002068</td>\n",
       "      <td>0.091624</td>\n",
       "      <td>0.030248</td>\n",
       "      <td>0.009898</td>\n",
       "      <td>0.006579</td>\n",
       "      <td>0.000911</td>\n",
       "      <td>1.000000</td>\n",
       "      <td>0.006900</td>\n",
       "      <td>0.298744</td>\n",
       "      <td>0.029148</td>\n",
       "      <td>0.031582</td>\n",
       "      <td>0.012949</td>\n",
       "      <td>0.041575</td>\n",
       "      <td>0.017100</td>\n",
       "      <td>0.021664</td>\n",
       "      <td>-0.058592</td>\n",
       "      <td>NaN</td>\n",
       "    </tr>\n",
       "    <tr>\n",
       "      <th>became_member_on</th>\n",
       "      <td>-0.008416</td>\n",
       "      <td>0.030967</td>\n",
       "      <td>0.024863</td>\n",
       "      <td>-0.008276</td>\n",
       "      <td>-0.013612</td>\n",
       "      <td>-0.000117</td>\n",
       "      <td>0.006900</td>\n",
       "      <td>1.000000</td>\n",
       "      <td>0.009308</td>\n",
       "      <td>0.053782</td>\n",
       "      <td>0.047485</td>\n",
       "      <td>0.038167</td>\n",
       "      <td>-0.009052</td>\n",
       "      <td>0.076686</td>\n",
       "      <td>0.060139</td>\n",
       "      <td>-0.106925</td>\n",
       "      <td>NaN</td>\n",
       "    </tr>\n",
       "    <tr>\n",
       "      <th>income</th>\n",
       "      <td>-0.003443</td>\n",
       "      <td>0.237198</td>\n",
       "      <td>0.074120</td>\n",
       "      <td>0.026340</td>\n",
       "      <td>0.015368</td>\n",
       "      <td>0.014786</td>\n",
       "      <td>0.298744</td>\n",
       "      <td>0.009308</td>\n",
       "      <td>1.000000</td>\n",
       "      <td>0.058165</td>\n",
       "      <td>0.058026</td>\n",
       "      <td>0.015776</td>\n",
       "      <td>0.088102</td>\n",
       "      <td>0.027654</td>\n",
       "      <td>0.033497</td>\n",
       "      <td>-0.107128</td>\n",
       "      <td>NaN</td>\n",
       "    </tr>\n",
       "    <tr>\n",
       "      <th>bogo</th>\n",
       "      <td>-0.035980</td>\n",
       "      <td>NaN</td>\n",
       "      <td>0.756817</td>\n",
       "      <td>-0.054274</td>\n",
       "      <td>-0.264435</td>\n",
       "      <td>0.797281</td>\n",
       "      <td>0.029148</td>\n",
       "      <td>0.053782</td>\n",
       "      <td>0.058165</td>\n",
       "      <td>1.000000</td>\n",
       "      <td>-0.300084</td>\n",
       "      <td>-0.168324</td>\n",
       "      <td>0.193130</td>\n",
       "      <td>0.226080</td>\n",
       "      <td>0.235895</td>\n",
       "      <td>-0.502774</td>\n",
       "      <td>NaN</td>\n",
       "    </tr>\n",
       "    <tr>\n",
       "      <th>discount</th>\n",
       "      <td>-0.020997</td>\n",
       "      <td>NaN</td>\n",
       "      <td>-0.756817</td>\n",
       "      <td>0.544936</td>\n",
       "      <td>0.731885</td>\n",
       "      <td>-0.386575</td>\n",
       "      <td>0.031582</td>\n",
       "      <td>0.047485</td>\n",
       "      <td>0.058026</td>\n",
       "      <td>-0.300084</td>\n",
       "      <td>1.000000</td>\n",
       "      <td>-0.165687</td>\n",
       "      <td>0.255259</td>\n",
       "      <td>0.236495</td>\n",
       "      <td>0.164715</td>\n",
       "      <td>-0.494896</td>\n",
       "      <td>NaN</td>\n",
       "    </tr>\n",
       "    <tr>\n",
       "      <th>informational</th>\n",
       "      <td>-0.037156</td>\n",
       "      <td>NaN</td>\n",
       "      <td>NaN</td>\n",
       "      <td>-0.667311</td>\n",
       "      <td>-0.634794</td>\n",
       "      <td>-0.562326</td>\n",
       "      <td>0.012949</td>\n",
       "      <td>0.038167</td>\n",
       "      <td>0.015776</td>\n",
       "      <td>-0.168324</td>\n",
       "      <td>-0.165687</td>\n",
       "      <td>1.000000</td>\n",
       "      <td>-0.106926</td>\n",
       "      <td>0.236671</td>\n",
       "      <td>0.177166</td>\n",
       "      <td>-0.277598</td>\n",
       "      <td>NaN</td>\n",
       "    </tr>\n",
       "    <tr>\n",
       "      <th>offer_completed</th>\n",
       "      <td>0.060702</td>\n",
       "      <td>NaN</td>\n",
       "      <td>NaN</td>\n",
       "      <td>0.140733</td>\n",
       "      <td>0.167688</td>\n",
       "      <td>0.071856</td>\n",
       "      <td>0.041575</td>\n",
       "      <td>-0.009052</td>\n",
       "      <td>0.088102</td>\n",
       "      <td>0.193130</td>\n",
       "      <td>0.255259</td>\n",
       "      <td>-0.106926</td>\n",
       "      <td>1.000000</td>\n",
       "      <td>-0.201873</td>\n",
       "      <td>-0.168942</td>\n",
       "      <td>-0.319382</td>\n",
       "      <td>NaN</td>\n",
       "    </tr>\n",
       "    <tr>\n",
       "      <th>offer_received</th>\n",
       "      <td>-0.097121</td>\n",
       "      <td>NaN</td>\n",
       "      <td>NaN</td>\n",
       "      <td>-0.025829</td>\n",
       "      <td>-0.045798</td>\n",
       "      <td>-0.059149</td>\n",
       "      <td>0.017100</td>\n",
       "      <td>0.076686</td>\n",
       "      <td>0.027654</td>\n",
       "      <td>0.226080</td>\n",
       "      <td>0.236495</td>\n",
       "      <td>0.236671</td>\n",
       "      <td>-0.201873</td>\n",
       "      <td>1.000000</td>\n",
       "      <td>-0.277229</td>\n",
       "      <td>-0.524097</td>\n",
       "      <td>NaN</td>\n",
       "    </tr>\n",
       "    <tr>\n",
       "      <th>offer_viewed</th>\n",
       "      <td>-0.029075</td>\n",
       "      <td>NaN</td>\n",
       "      <td>NaN</td>\n",
       "      <td>-0.091479</td>\n",
       "      <td>-0.093258</td>\n",
       "      <td>0.001458</td>\n",
       "      <td>0.021664</td>\n",
       "      <td>0.060139</td>\n",
       "      <td>0.033497</td>\n",
       "      <td>0.235895</td>\n",
       "      <td>0.164715</td>\n",
       "      <td>0.177166</td>\n",
       "      <td>-0.168942</td>\n",
       "      <td>-0.277229</td>\n",
       "      <td>1.000000</td>\n",
       "      <td>-0.438602</td>\n",
       "      <td>NaN</td>\n",
       "    </tr>\n",
       "    <tr>\n",
       "      <th>transaction</th>\n",
       "      <td>0.069098</td>\n",
       "      <td>NaN</td>\n",
       "      <td>NaN</td>\n",
       "      <td>NaN</td>\n",
       "      <td>NaN</td>\n",
       "      <td>NaN</td>\n",
       "      <td>-0.058592</td>\n",
       "      <td>-0.106925</td>\n",
       "      <td>-0.107128</td>\n",
       "      <td>-0.502774</td>\n",
       "      <td>-0.494896</td>\n",
       "      <td>-0.277598</td>\n",
       "      <td>-0.319382</td>\n",
       "      <td>-0.524097</td>\n",
       "      <td>-0.438602</td>\n",
       "      <td>1.000000</td>\n",
       "      <td>NaN</td>\n",
       "    </tr>\n",
       "    <tr>\n",
       "      <th>use_offer</th>\n",
       "      <td>NaN</td>\n",
       "      <td>NaN</td>\n",
       "      <td>NaN</td>\n",
       "      <td>NaN</td>\n",
       "      <td>NaN</td>\n",
       "      <td>NaN</td>\n",
       "      <td>NaN</td>\n",
       "      <td>NaN</td>\n",
       "      <td>NaN</td>\n",
       "      <td>NaN</td>\n",
       "      <td>NaN</td>\n",
       "      <td>NaN</td>\n",
       "      <td>NaN</td>\n",
       "      <td>NaN</td>\n",
       "      <td>NaN</td>\n",
       "      <td>NaN</td>\n",
       "      <td>NaN</td>\n",
       "    </tr>\n",
       "  </tbody>\n",
       "</table>\n",
       "</div>"
      ],
      "text/plain": [
       "                       time    amount  reward_transcript  difficulty  \\\n",
       "time               1.000000  0.004678          -0.023602    0.022529   \n",
       "amount             0.004678  1.000000                NaN         NaN   \n",
       "reward_transcript -0.023602       NaN           1.000000    0.070550   \n",
       "difficulty         0.022529       NaN           0.070550    1.000000   \n",
       "duration           0.024917       NaN          -0.466142    0.768318   \n",
       "reward_portfolio   0.005501       NaN           1.000000    0.425746   \n",
       "age                0.002068  0.091624           0.030248    0.009898   \n",
       "became_member_on  -0.008416  0.030967           0.024863   -0.008276   \n",
       "income            -0.003443  0.237198           0.074120    0.026340   \n",
       "bogo              -0.035980       NaN           0.756817   -0.054274   \n",
       "discount          -0.020997       NaN          -0.756817    0.544936   \n",
       "informational     -0.037156       NaN                NaN   -0.667311   \n",
       "offer_completed    0.060702       NaN                NaN    0.140733   \n",
       "offer_received    -0.097121       NaN                NaN   -0.025829   \n",
       "offer_viewed      -0.029075       NaN                NaN   -0.091479   \n",
       "transaction        0.069098       NaN                NaN         NaN   \n",
       "use_offer               NaN       NaN                NaN         NaN   \n",
       "\n",
       "                   duration  reward_portfolio       age  became_member_on  \\\n",
       "time               0.024917          0.005501  0.002068         -0.008416   \n",
       "amount                  NaN               NaN  0.091624          0.030967   \n",
       "reward_transcript -0.466142          1.000000  0.030248          0.024863   \n",
       "difficulty         0.768318          0.425746  0.009898         -0.008276   \n",
       "duration           1.000000          0.049923  0.006579         -0.013612   \n",
       "reward_portfolio   0.049923          1.000000  0.000911         -0.000117   \n",
       "age                0.006579          0.000911  1.000000          0.006900   \n",
       "became_member_on  -0.013612         -0.000117  0.006900          1.000000   \n",
       "income             0.015368          0.014786  0.298744          0.009308   \n",
       "bogo              -0.264435          0.797281  0.029148          0.053782   \n",
       "discount           0.731885         -0.386575  0.031582          0.047485   \n",
       "informational     -0.634794         -0.562326  0.012949          0.038167   \n",
       "offer_completed    0.167688          0.071856  0.041575         -0.009052   \n",
       "offer_received    -0.045798         -0.059149  0.017100          0.076686   \n",
       "offer_viewed      -0.093258          0.001458  0.021664          0.060139   \n",
       "transaction             NaN               NaN -0.058592         -0.106925   \n",
       "use_offer               NaN               NaN       NaN               NaN   \n",
       "\n",
       "                     income      bogo  discount  informational  \\\n",
       "time              -0.003443 -0.035980 -0.020997      -0.037156   \n",
       "amount             0.237198       NaN       NaN            NaN   \n",
       "reward_transcript  0.074120  0.756817 -0.756817            NaN   \n",
       "difficulty         0.026340 -0.054274  0.544936      -0.667311   \n",
       "duration           0.015368 -0.264435  0.731885      -0.634794   \n",
       "reward_portfolio   0.014786  0.797281 -0.386575      -0.562326   \n",
       "age                0.298744  0.029148  0.031582       0.012949   \n",
       "became_member_on   0.009308  0.053782  0.047485       0.038167   \n",
       "income             1.000000  0.058165  0.058026       0.015776   \n",
       "bogo               0.058165  1.000000 -0.300084      -0.168324   \n",
       "discount           0.058026 -0.300084  1.000000      -0.165687   \n",
       "informational      0.015776 -0.168324 -0.165687       1.000000   \n",
       "offer_completed    0.088102  0.193130  0.255259      -0.106926   \n",
       "offer_received     0.027654  0.226080  0.236495       0.236671   \n",
       "offer_viewed       0.033497  0.235895  0.164715       0.177166   \n",
       "transaction       -0.107128 -0.502774 -0.494896      -0.277598   \n",
       "use_offer               NaN       NaN       NaN            NaN   \n",
       "\n",
       "                   offer_completed  offer_received  offer_viewed  transaction  \\\n",
       "time                      0.060702       -0.097121     -0.029075     0.069098   \n",
       "amount                         NaN             NaN           NaN          NaN   \n",
       "reward_transcript              NaN             NaN           NaN          NaN   \n",
       "difficulty                0.140733       -0.025829     -0.091479          NaN   \n",
       "duration                  0.167688       -0.045798     -0.093258          NaN   \n",
       "reward_portfolio          0.071856       -0.059149      0.001458          NaN   \n",
       "age                       0.041575        0.017100      0.021664    -0.058592   \n",
       "became_member_on         -0.009052        0.076686      0.060139    -0.106925   \n",
       "income                    0.088102        0.027654      0.033497    -0.107128   \n",
       "bogo                      0.193130        0.226080      0.235895    -0.502774   \n",
       "discount                  0.255259        0.236495      0.164715    -0.494896   \n",
       "informational            -0.106926        0.236671      0.177166    -0.277598   \n",
       "offer_completed           1.000000       -0.201873     -0.168942    -0.319382   \n",
       "offer_received           -0.201873        1.000000     -0.277229    -0.524097   \n",
       "offer_viewed             -0.168942       -0.277229      1.000000    -0.438602   \n",
       "transaction              -0.319382       -0.524097     -0.438602     1.000000   \n",
       "use_offer                      NaN             NaN           NaN          NaN   \n",
       "\n",
       "                   use_offer  \n",
       "time                     NaN  \n",
       "amount                   NaN  \n",
       "reward_transcript        NaN  \n",
       "difficulty               NaN  \n",
       "duration                 NaN  \n",
       "reward_portfolio         NaN  \n",
       "age                      NaN  \n",
       "became_member_on         NaN  \n",
       "income                   NaN  \n",
       "bogo                     NaN  \n",
       "discount                 NaN  \n",
       "informational            NaN  \n",
       "offer_completed          NaN  \n",
       "offer_received           NaN  \n",
       "offer_viewed             NaN  \n",
       "transaction              NaN  \n",
       "use_offer                NaN  "
      ]
     },
     "execution_count": 39,
     "metadata": {},
     "output_type": "execute_result"
    }
   ],
   "source": [
    "merge_transcript_test.corr()"
   ]
  },
  {
   "cell_type": "markdown",
   "metadata": {},
   "source": [
    "## Split the data into training and testing data\n",
    " "
   ]
  },
  {
   "cell_type": "code",
   "execution_count": 40,
   "metadata": {},
   "outputs": [],
   "source": [
    "    from sklearn.linear_model import LinearRegression\n",
    "    from sklearn.ensemble import RandomForestClassifier\n",
    "    from sklearn.model_selection import train_test_split\n",
    "    from sklearn.metrics import r2_score, mean_squared_error\n",
    "    from sklearn.tree import DecisionTreeClassifier\n",
    "    from sklearn.ensemble import GradientBoostingClassifier, RandomForestClassifier \n",
    "    from sklearn.linear_model import LogisticRegression\n",
    "\n",
    "    from sklearn.naive_bayes import GaussianNB \n",
    "    from sklearn.neighbors import KNeighborsClassifier\n",
    "    import seaborn as sns\n",
    "\n",
    "    X=merge_transcript_test[['time','amount','offer id',\n",
    "       'channels', 'difficulty', 'duration',\n",
    "       'reward_portfolio', 'age', 'became_member_on', 'gender', 'income',\n",
    "       'agerange', 'income_range', 'bogo', 'discount', 'informational']]\n",
    "       \n",
    "    \n",
    "#     X=merge_transcript_test[['difficulty', 'duration', 'offer_type',\n",
    "#         'age', 'became_member_on', 'gender', 'income',\n",
    "#        'agerange', 'income_range', 'bogo', 'discount', 'informational']]\n",
    "    \n",
    "    y=merge_transcript_test['offer_completed']\n",
    "    X = X.apply(pd.to_numeric, errors='coerce')\n",
    "    y = y.apply(pd.to_numeric, errors='coerce')\n",
    "    X.fillna(0, inplace=True)\n",
    "    y.fillna(0, inplace=True)\n",
    "\n",
    "    #Split to train and test\n",
    "    X_train, X_test, y_train, y_test = train_test_split(X, y, test_size=.30, random_state=42)\n"
   ]
  },
  {
   "cell_type": "markdown",
   "metadata": {},
   "source": [
    "## Predictive Modeling\n"
   ]
  },
  {
   "cell_type": "code",
   "execution_count": 41,
   "metadata": {},
   "outputs": [],
   "source": [
    "def evaluate_model_performance(model_name,X_train, y_train, X_test, y_test):\n",
    "    '''\n",
    "    input: the model to be used\n",
    "    X_train, y_train, X_test, y_test\n",
    "    output:\n",
    "    output containg training score and testing score\n",
    "    '''\n",
    "    output = {}\n",
    "    clf = model_name   \n",
    "    clf = clf.fit(X_train, y_train)\n",
    "    predictions_test = clf.predict(X_test)\n",
    "    predictions_train = clf.predict(X_train)\n",
    "     \n",
    "    #calculate training accuracy \n",
    "    output['training_score']= clf.score(X_train,y_train)\n",
    "    \n",
    "    #calculate testing accuracy \n",
    "    output['testing_score']= clf.score(X_test,y_test)\n",
    "    \n",
    "    return output"
   ]
  },
  {
   "cell_type": "code",
   "execution_count": 42,
   "metadata": {},
   "outputs": [
    {
     "data": {
      "text/plain": [
       "{'training_score': 0.98724443429508835, 'testing_score': 0.88529920292297826}"
      ]
     },
     "execution_count": 42,
     "metadata": {},
     "output_type": "execute_result"
    }
   ],
   "source": [
    "evaluate_model_performance( DecisionTreeClassifier() ,X_train, y_train, X_test, y_test)\n"
   ]
  },
  {
   "cell_type": "code",
   "execution_count": 43,
   "metadata": {},
   "outputs": [
    {
     "data": {
      "image/png": "[encoded data removed]",
      "text/plain": [
       "<matplotlib.figure.Figure at 0x7f22b43d4b38>"
      ]
     },
     "metadata": {
      "needs_background": "light"
     },
     "output_type": "display_data"
    }
   ],
   "source": [
    "Model_res=DecisionTreeClassifier().fit(X_train,y_train)\n",
    "importances = Model_res.feature_importances_\n",
    "\n",
    "# Plot\n",
    "feat_imp = pd.DataFrame(Model_res.feature_importances_, index=X.columns, columns=['offer_completed']).sort_values('offer_completed',ascending=False)\n",
    "feat_imp.plot.bar()\n",
    "plt.title('DecisionTree Top Relevant Features')\n",
    "plt.show()"
   ]
  },
  {
   "cell_type": "code",
   "execution_count": 44,
   "metadata": {},
   "outputs": [
    {
     "data": {
      "text/plain": [
       "{'training_score': 0.9789209266776342, 'testing_score': 0.87815486999923886}"
      ]
     },
     "execution_count": 44,
     "metadata": {},
     "output_type": "execute_result"
    }
   ],
   "source": [
    "evaluate_model_performance( RandomForestClassifier() ,X_train, y_train, X_test, y_test)\n"
   ]
  },
  {
   "cell_type": "code",
   "execution_count": 51,
   "metadata": {},
   "outputs": [
    {
     "data": {
      "image/png": "[encoded data removed]",
      "text/plain": [
       "<matplotlib.figure.Figure at 0x7f22b511b208>"
      ]
     },
     "metadata": {
      "needs_background": "light"
     },
     "output_type": "display_data"
    }
   ],
   "source": [
    "Model_res=RandomForestClassifier().fit(X_train,y_train)\n",
    "importances = Model_res.feature_importances_\n",
    "\n",
    "# Plot\n",
    "feat_imp = pd.DataFrame(Model_res.feature_importances_, index=X.columns, columns=['offer_completed']).sort_values('offer_completed',ascending=False)\n",
    "feat_imp.plot.bar()\n",
    "plt.title('Random Forest Classifier Top Relevant Features')\n",
    "plt.show()"
   ]
  },
  {
   "cell_type": "code",
   "execution_count": 46,
   "metadata": {},
   "outputs": [
    {
     "data": {
      "text/plain": [
       "{'training_score': 0.91350263080629901, 'testing_score': 0.91197355400658975}"
      ]
     },
     "execution_count": 46,
     "metadata": {},
     "output_type": "execute_result"
    }
   ],
   "source": [
    "evaluate_model_performance( GradientBoostingClassifier() ,X_train, y_train, X_test, y_test)\n"
   ]
  },
  {
   "cell_type": "code",
   "execution_count": 52,
   "metadata": {},
   "outputs": [
    {
     "data": {
      "image/png": "[encoded data removed]",
      "text/plain": [
       "<matplotlib.figure.Figure at 0x7f22b51e8b70>"
      ]
     },
     "metadata": {
      "needs_background": "light"
     },
     "output_type": "display_data"
    }
   ],
   "source": [
    "Model_res=GradientBoostingClassifier().fit(X_train,y_train)\n",
    "importances = Model_res.feature_importances_\n",
    "\n",
    "# Plot\n",
    "feat_imp = pd.DataFrame(Model_res.feature_importances_, index=X.columns, columns=['offer_completed']).sort_values('offer_completed',ascending=False)\n",
    "feat_imp.plot.bar()\n",
    "plt.title('Gradient Boosting Classifier Top Relevant Features')\n",
    "plt.show()"
   ]
  },
  {
   "cell_type": "code",
   "execution_count": 48,
   "metadata": {},
   "outputs": [
    {
     "data": {
      "text/plain": [
       "{'training_score': 0.87307349946172164, 'testing_score': 0.87095616620088956}"
      ]
     },
     "execution_count": 48,
     "metadata": {},
     "output_type": "execute_result"
    }
   ],
   "source": [
    "evaluate_model_performance( LogisticRegression() ,X_train, y_train, X_test, y_test)"
   ]
  },
  {
   "cell_type": "code",
   "execution_count": 49,
   "metadata": {},
   "outputs": [
    {
     "data": {
      "text/plain": [
       "{'training_score': 0.69054820503977665, 'testing_score': 0.69078196191863939}"
      ]
     },
     "execution_count": 49,
     "metadata": {},
     "output_type": "execute_result"
    }
   ],
   "source": [
    "evaluate_model_performance( GaussianNB() ,X_train, y_train, X_test, y_test)\n"
   ]
  },
  {
   "cell_type": "code",
   "execution_count": 50,
   "metadata": {},
   "outputs": [
    {
     "data": {
      "text/plain": [
       "{'training_score': 0.92435208530430202, 'testing_score': 0.89464011918095709}"
      ]
     },
     "execution_count": 50,
     "metadata": {},
     "output_type": "execute_result"
    }
   ],
   "source": [
    "evaluate_model_performance( KNeighborsClassifier() ,X_train, y_train, X_test, y_test)\n"
   ]
  },
  {
   "cell_type": "markdown",
   "metadata": {},
   "source": [
    "# Conclusion"
   ]
  },
  {
   "cell_type": "markdown",
   "metadata": {},
   "source": [
    "![jj](data/dashboard_e.jpg)\n"
   ]
  },
  {
   "cell_type": "markdown",
   "metadata": {},
   "source": [
    "In this project the results show customers always respond to BOGO offers more than discount offers because the difficulty in BOGO is less than the discount, and I observe the most of the customers are in the age range between 50-61 years and the income range between  50,000 to 61,000 and men is more likely to purchase than women.\n",
    "\n",
    "\n",
    "to predict the customer's response, I build a model that predicts whether a customer will respond to an offer. My strategy for solving this problem has mainly two steps. First, I merge portfolio, profile, and transaction data and I compared the performance between these models :\n",
    "\n",
    "1-DecisionTreeClassifier\n",
    "\n",
    "2-RandomForestClassifier\n",
    "\n",
    "3-GradientBoostingClassifier\n",
    "\n",
    "4-LogisticRegression\n",
    "\n",
    "5-GaussianNB\n",
    "\n",
    "6-KNeighborsClassifier\n",
    " \n",
    "\n",
    "This analysis suggests that a Decision Tree Classifier model has the best training data accuracy the results shows training data accuracy of 0.98 and the test data set accuracy of 0.89.\n",
    "\n",
    "after using machine learning models to predict if the customers will respond to the offer or not, the models also show the main factors that will highly affect the possibility of customer's getting an offer are:\n",
    "\n",
    "1-Time \n",
    "\n",
    "2-Age\n",
    "\n",
    "3- Income\n",
    "\n",
    "4- length of membership\n",
    "\n",
    "5-Duration \n",
    "\n",
    "6- Difficulty\n"
   ]
  }
 ],
 "metadata": {
  "kernelspec": {
   "display_name": "Python 3",
   "language": "python",
   "name": "python3"
  },
  "language_info": {
   "codemirror_mode": {
    "name": "ipython",
    "version": 3
   },
   "file_extension": ".py",
   "mimetype": "text/x-python",
   "name": "python",
   "nbconvert_exporter": "python",
   "pygments_lexer": "ipython3",
   "version": "3.6.3"
  }
 },
 "nbformat": 4,
 "nbformat_minor": 2
}
